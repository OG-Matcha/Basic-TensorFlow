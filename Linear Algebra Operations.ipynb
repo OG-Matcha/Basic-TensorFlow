{
 "cells": [
  {
   "attachments": {},
   "cell_type": "markdown",
   "metadata": {},
   "source": [
    "## Linear Algebra Operations"
   ]
  },
  {
   "attachments": {},
   "cell_type": "markdown",
   "metadata": {},
   "source": [
    "### Matmul Method"
   ]
  },
  {
   "attachments": {},
   "cell_type": "markdown",
   "metadata": {},
   "source": [
    "* Multiplies matrix a by matrix b, producing a * b.\n",
    "* [Document](https://www.tensorflow.org/api_docs/python/tf/linalg/matmul?hl=en)"
   ]
  },
  {
   "attachments": {},
   "cell_type": "markdown",
   "metadata": {},
   "source": [
    "#### The Number of Columns in First Tensor Should Match the Number of Rows in Second Tensor"
   ]
  },
  {
   "cell_type": "code",
   "execution_count": null,
   "metadata": {},
   "outputs": [
    {
     "name": "stdout",
     "output_type": "stream",
     "text": [
      "(2, 3) (2, 3)\n"
     ]
    },
    {
     "ename": "InvalidArgumentError",
     "evalue": "{{function_node __wrapped__MatMul_device_/job:localhost/replica:0/task:0/device:CPU:0}} Matrix size-incompatible: In[0]: [2,3], In[1]: [2,3] [Op:MatMul]",
     "output_type": "error",
     "traceback": [
      "\u001b[1;31m---------------------------------------------------------------------------\u001b[0m\n",
      "\u001b[1;31mInvalidArgumentError\u001b[0m                      Traceback (most recent call last)\n",
      "Cell \u001b[1;32mIn[85], line 6\u001b[0m\n",
      "\u001b[0;32m      2\u001b[0m x_2 \u001b[39m=\u001b[39m tf\u001b[39m.\u001b[39mconstant([[\u001b[39m1\u001b[39m, \u001b[39m2\u001b[39m, \u001b[39m0\u001b[39m], [\u001b[39m3\u001b[39m, \u001b[39m5\u001b[39m, \u001b[39m-\u001b[39m\u001b[39m1\u001b[39m]])\n",
      "\u001b[0;32m      4\u001b[0m \u001b[39mprint\u001b[39m(x_1\u001b[39m.\u001b[39mshape, x_2\u001b[39m.\u001b[39mshape)\n",
      "\u001b[1;32m----> 6\u001b[0m tf\u001b[39m.\u001b[39;49mlinalg\u001b[39m.\u001b[39;49mmatmul(\n",
      "\u001b[0;32m      7\u001b[0m     x_1,\n",
      "\u001b[0;32m      8\u001b[0m     x_2,\n",
      "\u001b[0;32m      9\u001b[0m     transpose_a\u001b[39m=\u001b[39;49m\u001b[39mFalse\u001b[39;49;00m,\n",
      "\u001b[0;32m     10\u001b[0m     transpose_b\u001b[39m=\u001b[39;49m\u001b[39mFalse\u001b[39;49;00m,\n",
      "\u001b[0;32m     11\u001b[0m     adjoint_a\u001b[39m=\u001b[39;49m\u001b[39mFalse\u001b[39;49;00m,\n",
      "\u001b[0;32m     12\u001b[0m     adjoint_b\u001b[39m=\u001b[39;49m\u001b[39mFalse\u001b[39;49;00m,\n",
      "\u001b[0;32m     13\u001b[0m     a_is_sparse\u001b[39m=\u001b[39;49m\u001b[39mFalse\u001b[39;49;00m,\n",
      "\u001b[0;32m     14\u001b[0m     b_is_sparse\u001b[39m=\u001b[39;49m\u001b[39mFalse\u001b[39;49;00m,\n",
      "\u001b[0;32m     15\u001b[0m     output_type\u001b[39m=\u001b[39;49m\u001b[39mNone\u001b[39;49;00m,\n",
      "\u001b[0;32m     16\u001b[0m     name\u001b[39m=\u001b[39;49m\u001b[39mNone\u001b[39;49;00m\n",
      "\u001b[0;32m     17\u001b[0m )\n",
      "\n",
      "File \u001b[1;32mc:\\Users\\JasonHuang\\AppData\\Local\\Programs\\Python\\Python310\\lib\\site-packages\\tensorflow\\python\\util\\traceback_utils.py:153\u001b[0m, in \u001b[0;36mfilter_traceback.<locals>.error_handler\u001b[1;34m(*args, **kwargs)\u001b[0m\n",
      "\u001b[0;32m    151\u001b[0m \u001b[39mexcept\u001b[39;00m \u001b[39mException\u001b[39;00m \u001b[39mas\u001b[39;00m e:\n",
      "\u001b[0;32m    152\u001b[0m   filtered_tb \u001b[39m=\u001b[39m _process_traceback_frames(e\u001b[39m.\u001b[39m__traceback__)\n",
      "\u001b[1;32m--> 153\u001b[0m   \u001b[39mraise\u001b[39;00m e\u001b[39m.\u001b[39mwith_traceback(filtered_tb) \u001b[39mfrom\u001b[39;00m \u001b[39mNone\u001b[39m\n",
      "\u001b[0;32m    154\u001b[0m \u001b[39mfinally\u001b[39;00m:\n",
      "\u001b[0;32m    155\u001b[0m   \u001b[39mdel\u001b[39;00m filtered_tb\n",
      "\n",
      "File \u001b[1;32mc:\\Users\\JasonHuang\\AppData\\Local\\Programs\\Python\\Python310\\lib\\site-packages\\tensorflow\\python\\framework\\ops.py:7215\u001b[0m, in \u001b[0;36mraise_from_not_ok_status\u001b[1;34m(e, name)\u001b[0m\n",
      "\u001b[0;32m   7213\u001b[0m \u001b[39mdef\u001b[39;00m \u001b[39mraise_from_not_ok_status\u001b[39m(e, name):\n",
      "\u001b[0;32m   7214\u001b[0m   e\u001b[39m.\u001b[39mmessage \u001b[39m+\u001b[39m\u001b[39m=\u001b[39m (\u001b[39m\"\u001b[39m\u001b[39m name: \u001b[39m\u001b[39m\"\u001b[39m \u001b[39m+\u001b[39m name \u001b[39mif\u001b[39;00m name \u001b[39mis\u001b[39;00m \u001b[39mnot\u001b[39;00m \u001b[39mNone\u001b[39;00m \u001b[39melse\u001b[39;00m \u001b[39m\"\u001b[39m\u001b[39m\"\u001b[39m)\n",
      "\u001b[1;32m-> 7215\u001b[0m   \u001b[39mraise\u001b[39;00m core\u001b[39m.\u001b[39m_status_to_exception(e) \u001b[39mfrom\u001b[39;00m \u001b[39mNone\u001b[39m\n",
      "\n",
      "\u001b[1;31mInvalidArgumentError\u001b[0m: {{function_node __wrapped__MatMul_device_/job:localhost/replica:0/task:0/device:CPU:0}} Matrix size-incompatible: In[0]: [2,3], In[1]: [2,3] [Op:MatMul]"
     ]
    }
   ],
   "source": [
    "x_1 = tf.constant([[1, 2, 0], [3, 5, -1]])\n",
    "x_2 = tf.constant([[1, 2, 0], [3, 5, -1]])\n",
    "\n",
    "print(x_1.shape, x_2.shape)\n",
    "\n",
    "tf.linalg.matmul(\n",
    "    x_1,\n",
    "    x_2,\n",
    "    transpose_a=False,\n",
    "    transpose_b=False,\n",
    "    adjoint_a=False,\n",
    "    adjoint_b=False,\n",
    "    a_is_sparse=False,\n",
    "    b_is_sparse=False,\n",
    "    output_type=None,\n",
    "    name=None\n",
    ")"
   ]
  },
  {
   "cell_type": "code",
   "execution_count": null,
   "metadata": {},
   "outputs": [
    {
     "name": "stdout",
     "output_type": "stream",
     "text": [
      "(2, 3) (3, 3)\n"
     ]
    },
    {
     "data": {
      "text/plain": [
       "<tf.Tensor: shape=(2, 3), dtype=int32, numpy=\n",
       "array([[  7,  12,  -2],\n",
       "       [ 14,  26, -11]])>"
      ]
     },
     "metadata": {},
     "output_type": "display_data"
    }
   ],
   "source": [
    "x_1 = tf.constant([[1, 2, 0], [3, 5, -1]])\n",
    "x_2 = tf.constant([[1, 2, 0], [3, 5, -1], [4, 5, 6]])\n",
    "\n",
    "print(x_1.shape, x_2.shape)\n",
    "\n",
    "tf.linalg.matmul(\n",
    "    x_1,\n",
    "    x_2,\n",
    "    transpose_a=False,\n",
    "    transpose_b=False,\n",
    "    adjoint_a=False,\n",
    "    adjoint_b=False,\n",
    "    a_is_sparse=False,\n",
    "    b_is_sparse=False,\n",
    "    output_type=None,\n",
    "    name=None\n",
    ")"
   ]
  },
  {
   "cell_type": "code",
   "execution_count": null,
   "metadata": {},
   "outputs": [
    {
     "name": "stdout",
     "output_type": "stream",
     "text": [
      "tf.Tensor(\n",
      "[[  7  12  -2]\n",
      " [ 14  26 -11]], shape=(2, 3), dtype=int32)\n"
     ]
    }
   ],
   "source": [
    "print(x_1 @ x_2)"
   ]
  },
  {
   "attachments": {},
   "cell_type": "markdown",
   "metadata": {},
   "source": [
    "### Transpose Method"
   ]
  },
  {
   "attachments": {},
   "cell_type": "markdown",
   "metadata": {},
   "source": [
    "* Transposes a, where a is a Tensor.\n",
    "* [Document](https://www.tensorflow.org/api_docs/python/tf/transpose?hl=en)"
   ]
  },
  {
   "cell_type": "code",
   "execution_count": null,
   "metadata": {},
   "outputs": [
    {
     "name": "stdout",
     "output_type": "stream",
     "text": [
      "tf.Tensor(\n",
      "[[ 1  2  0]\n",
      " [ 3  5 -1]], shape=(2, 3), dtype=int32)\n",
      "tf.Tensor(\n",
      "[[ 1  3]\n",
      " [ 2  5]\n",
      " [ 0 -1]], shape=(3, 2), dtype=int32)\n"
     ]
    }
   ],
   "source": [
    "print(x_1)\n",
    "print(tf.transpose(x_1))"
   ]
  },
  {
   "cell_type": "code",
   "execution_count": null,
   "metadata": {},
   "outputs": [
    {
     "name": "stdout",
     "output_type": "stream",
     "text": [
      "tf.Tensor(\n",
      "[[ 1  2  0]\n",
      " [ 3  5 -1]\n",
      " [ 4  5  6]], shape=(3, 3), dtype=int32)\n",
      "tf.Tensor(\n",
      "[[ 1  3  4]\n",
      " [ 2  5  5]\n",
      " [ 0 -1  6]], shape=(3, 3), dtype=int32)\n"
     ]
    }
   ],
   "source": [
    "print(x_2)\n",
    "print(tf.transpose(x_2))"
   ]
  },
  {
   "attachments": {},
   "cell_type": "markdown",
   "metadata": {},
   "source": [
    "### Bind Part Method"
   ]
  },
  {
   "attachments": {},
   "cell_type": "markdown",
   "metadata": {},
   "source": [
    "* Copy a tensor setting everything outside a central band in each innermost matrix to zero\n",
    "* [Document](https://www.tensorflow.org/api_docs/python/tf/linalg/band_part?hl=en)"
   ]
  },
  {
   "attachments": {},
   "cell_type": "markdown",
   "metadata": {},
   "source": [
    "band[i, j, k, ..., m, n] = in_band(m, n) * input[i, j, k, ..., m, n].\n",
    "\n",
    "in_band(m, n) = (num_lower < 0 || (m-n) <= num_lower) && (num_upper < 0 || (n-m) <= num_upper)."
   ]
  },
  {
   "cell_type": "code",
   "execution_count": null,
   "metadata": {},
   "outputs": [
    {
     "name": "stdout",
     "output_type": "stream",
     "text": [
      "tf.Tensor(\n",
      "[[1. 0. 0.]\n",
      " [0. 5. 0.]\n",
      " [0. 0. 6.]\n",
      " [0. 0. 0.]], shape=(4, 3), dtype=float16)\n"
     ]
    }
   ],
   "source": [
    "tensor_two_d = tf.constant(\n",
    "    [[1, -2, 0], \n",
    "    [3, 5, 100], \n",
    "    [1, 5, 6], \n",
    "    [2, 3, 8]], dtype= tf.float16)\n",
    "\n",
    "#### (lower < 0 or m-n <= lower) and (upper < 0 or n-m <= upper)\n",
    "#### m -- rows, n -- columns\n",
    "\n",
    "print(tf.linalg.band_part(tensor_two_d, 0, 0))"
   ]
  },
  {
   "cell_type": "code",
   "execution_count": null,
   "metadata": {},
   "outputs": [],
   "source": [
    "tensor_two_d_m_n = tf.constant([[0, -1, -2],\n",
    "                                [1, 0, -1],\n",
    "                                [2, 1, 0],\n",
    "                                [3, 2, 1]], dtype= tf.float16)\n",
    "\n",
    "tensor_two_d_n_m = tf.constant([[0, 1, 2],\n",
    "                                [-1, 0, 1],\n",
    "                                [-2, -1, 0],\n",
    "                                [-3, -2, -1]], dtype= tf.float16)"
   ]
  },
  {
   "attachments": {},
   "cell_type": "markdown",
   "metadata": {},
   "source": [
    "#### Useful Special Cases\n",
    "* tf.linalg.band_part(input, 0, -1) ==> Upper triangular part.\n",
    "* tf.linalg.band_part(input, -1, 0) ==> Lower triangular part.\n",
    "* tf.linalg.band_part(input, 0, 0) ==> Diagonal."
   ]
  },
  {
   "attachments": {},
   "cell_type": "markdown",
   "metadata": {},
   "source": [
    "### Inv Method"
   ]
  },
  {
   "attachments": {},
   "cell_type": "markdown",
   "metadata": {},
   "source": [
    "* Computes the inverse of one or more square invertible matrices or their adjoints (conjugate transposes).\n",
    "* [Document](https://www.tensorflow.org/api_docs/python/tf/linalg/inv?hl=en)"
   ]
  },
  {
   "attachments": {},
   "cell_type": "markdown",
   "metadata": {},
   "source": [
    "#### The Matrix Must Be A Square Matrix"
   ]
  },
  {
   "cell_type": "code",
   "execution_count": null,
   "metadata": {},
   "outputs": [
    {
     "name": "stdout",
     "output_type": "stream",
     "text": [
      "tf.Tensor(\n",
      "[[ 0.7413249  -0.01892742  0.3154574 ]\n",
      " [-0.12933755 -0.00946371  0.1577287 ]\n",
      " [-0.01577287  0.01104101 -0.01735016]], shape=(3, 3), dtype=float32)\n"
     ]
    }
   ],
   "source": [
    "tensor_two_d = tf.constant(\n",
    "    [[1, -2, 0], \n",
    "    [3, 5, 100], \n",
    "    [1, 5, 6]], dtype= tf.float32)\n",
    "\n",
    "tensor_two_d_inv = tf.linalg.inv(tensor_two_d)\n",
    "print(tensor_two_d_inv)"
   ]
  },
  {
   "cell_type": "code",
   "execution_count": null,
   "metadata": {},
   "outputs": [
    {
     "data": {
      "text/plain": [
       "<tf.Tensor: shape=(3, 3), dtype=float32, numpy=\n",
       "array([[ 1.0000000e+00,  7.4505806e-09,  0.0000000e+00],\n",
       "       [ 1.6391277e-07,  1.0000000e+00,  4.4703484e-08],\n",
       "       [-5.2154064e-08,  7.4505806e-08,  1.0000000e+00]], dtype=float32)>"
      ]
     },
     "metadata": {},
     "output_type": "display_data"
    }
   ],
   "source": [
    "tensor_two_d @ tensor_two_d_inv"
   ]
  },
  {
   "attachments": {},
   "cell_type": "markdown",
   "metadata": {},
   "source": [
    "### Svd Method"
   ]
  },
  {
   "attachments": {},
   "cell_type": "markdown",
   "metadata": {},
   "source": [
    "* Computes the singular value decompositions of one or more matrices.\n",
    "* [Document](https://www.tensorflow.org/api_docs/python/tf/linalg/svd?hl=en)"
   ]
  },
  {
   "cell_type": "code",
   "execution_count": null,
   "metadata": {},
   "outputs": [
    {
     "name": "stdout",
     "output_type": "stream",
     "text": [
      "tf.Tensor([100.3663      5.1059036   1.2371687], shape=(3,), dtype=float32)\n",
      "tf.Tensor(\n",
      "[[-7.4980810e-04 -3.7569830e-01  9.2674178e-01]\n",
      " [ 9.9803799e-01 -5.8300879e-02 -2.2827482e-02]\n",
      " [ 6.2606096e-02  9.2490643e-01  3.7500489e-01]], shape=(3, 3), dtype=float32)\n",
      "tf.Tensor(\n",
      "[[ 0.03044816  0.07330841  0.99684453]\n",
      " [ 0.0528536   0.9957936  -0.07484547]\n",
      " [ 0.998138   -0.05496572 -0.02644547]], shape=(3, 3), dtype=float32)\n"
     ]
    }
   ],
   "source": [
    "tensor_two_d = tf.constant(\n",
    "    [[1, -2, 0], \n",
    "    [3, 5, 100], \n",
    "    [1, 5, 6]], dtype= tf.float32)\n",
    "\n",
    "s, u, v = tf.linalg.svd(tensor_two_d)\n",
    "\n",
    "# s is a tensor of singular values.\n",
    "# u is a tensor of left singular vectors.\n",
    "# v is a tensor of right singular vectors.\n",
    "\n",
    "print(s)\n",
    "print(u)\n",
    "print(v)"
   ]
  },
  {
   "attachments": {},
   "cell_type": "markdown",
   "metadata": {},
   "source": [
    "### Einsum Method"
   ]
  },
  {
   "attachments": {},
   "cell_type": "markdown",
   "metadata": {},
   "source": [
    "* Tensor contraction over specified indices and outer product.\n",
    "* [Document](https://www.tensorflow.org/api_docs/python/tf/einsum?hl=en)"
   ]
  },
  {
   "cell_type": "code",
   "execution_count": null,
   "metadata": {},
   "outputs": [],
   "source": [
    "import numpy as np"
   ]
  },
  {
   "cell_type": "code",
   "execution_count": null,
   "metadata": {},
   "outputs": [
    {
     "name": "stdout",
     "output_type": "stream",
     "text": [
      "(3, 4)\n",
      "(4, 5)\n",
      "Matmul C =: \n",
      "\n",
      "[[33 69 77 -6 27]\n",
      " [ 9 12  0 10 13]\n",
      " [25 69 60 -1 14]] \n",
      "\n",
      "Einsum C =: \n",
      "\n",
      "[[33 69 77 -6 27]\n",
      " [ 9 12  0 10 13]\n",
      " [25 69 60 -1 14]] \n",
      "\n"
     ]
    }
   ],
   "source": [
    "A = np.array([[2, 6, 5, 2],\n",
    "             [2, -2, 2, 3],\n",
    "             [3, 5, 4, 0]])\n",
    "\n",
    "B = np.array([[2, 9, 0, 3, 0],\n",
    "             [3, 6, 8, -2, 2],\n",
    "             [1, 3, 5, 0, 1],\n",
    "             [3, 0, 2, 0, 5]])\n",
    "\n",
    "print(A.shape)\n",
    "print(B.shape)\n",
    "\n",
    "print(\"Matmul C =: \\n\")\n",
    "print(np.matmul(A, B), \"\\n\")\n",
    "\n",
    "print(\"Einsum C =: \\n\")\n",
    "print(np.einsum(\"ij, jk -> ik\", A, B), \"\\n\")"
   ]
  },
  {
   "cell_type": "code",
   "execution_count": null,
   "metadata": {},
   "outputs": [
    {
     "name": "stdout",
     "output_type": "stream",
     "text": [
      "(3, 4)\n",
      "(3, 4)\n",
      "Hadamard C =: \n",
      "\n",
      "[[  4  54   0   6]\n",
      " [  6 -12  16  -6]\n",
      " [  1  15  20   0]] \n",
      "\n",
      "Einsum C =: \n",
      "\n",
      "[[  4  54   0   6]\n",
      " [  6 -12  16  -6]\n",
      " [  1  15  20   0]] \n",
      "\n"
     ]
    }
   ],
   "source": [
    "A = np.array([[2, 6, 5, 2],\n",
    "             [2, -2, 2, 3],\n",
    "             [1, 5, 4, 0]])\n",
    "\n",
    "B = np.array([[2, 9, 0, 3],\n",
    "             [3, 6, 8, -2],\n",
    "             [1, 3, 5, 0]])\n",
    "\n",
    "print(A.shape)\n",
    "print(B.shape)\n",
    "\n",
    "print(\"Hadamard C =: \\n\")\n",
    "print(A * B, \"\\n\")\n",
    "\n",
    "print(\"Einsum C =: \\n\")\n",
    "print(np.einsum(\"ij, ij -> ij\", A, B), \"\\n\")"
   ]
  },
  {
   "cell_type": "code",
   "execution_count": null,
   "metadata": {},
   "outputs": [
    {
     "name": "stdout",
     "output_type": "stream",
     "text": [
      "Transposed A =: \n",
      "\n",
      "[[ 2  2  1]\n",
      " [ 6 -2  5]\n",
      " [ 5  2  4]\n",
      " [ 2  3  0]] \n",
      "\n",
      "Einsum Transposed A =: \n",
      "\n",
      "[[ 2  2  1]\n",
      " [ 6 -2  5]\n",
      " [ 5  2  4]\n",
      " [ 2  3  0]]\n"
     ]
    }
   ],
   "source": [
    "A = np.array([[2, 6, 5, 2],\n",
    "             [2, -2, 2, 3],\n",
    "             [1, 5, 4, 0]])\n",
    "\n",
    "print(\"Transposed A =: \\n\")\n",
    "print(A.T, \"\\n\")\n",
    "\n",
    "print(\"Einsum Transposed A =: \\n\")\n",
    "print(np.einsum(\"ij -> ji\", A))"
   ]
  },
  {
   "cell_type": "code",
   "execution_count": null,
   "metadata": {},
   "outputs": [
    {
     "name": "stdout",
     "output_type": "stream",
     "text": [
      "(2, 3, 4) (2, 4, 5)\n",
      "Batch Multiplication C =: \n",
      "\n",
      "[[[33 69 77 -6 27]\n",
      "  [ 9 12  0 10 13]\n",
      "  [21 51 60 -7 14]]\n",
      "\n",
      " [[77  0 36 19  6]\n",
      "  [ 8  0 12 -4  4]\n",
      "  [23  0 29 -6 10]]] \n",
      "\n",
      "Einsum C =: \n",
      "\n",
      "[[[33 69 77 -6 27]\n",
      "  [ 9 12  0 10 13]\n",
      "  [21 51 60 -7 14]]\n",
      "\n",
      " [[77  0 36 19  6]\n",
      "  [ 8  0 12 -4  4]\n",
      "  [23  0 29 -6 10]]]\n"
     ]
    }
   ],
   "source": [
    "A = np.array([[[2, 6, 5, 2],\n",
    "             [2, -2, 2, 3],\n",
    "             [1, 5, 4, 0]],\n",
    "             [[1, 3, 1, 22],\n",
    "              [0, 2, 2, 0],\n",
    "              [1, 5, 4, 1]]])\n",
    "\n",
    "B = np.array([[[2, 9, 0, 3, 0],\n",
    "             [3, 6, 8, -2, 2],\n",
    "             [1, 3, 5, 0, 1],\n",
    "             [3, 0, 2, 0, 5]],\n",
    "             [[1, 0, 0, 3, 0],\n",
    "              [3, 0, 4, -2, 2],\n",
    "              [1, 0, 2, 0, 0],\n",
    "              [3, 0, 1, 1, 0]]])\n",
    "\n",
    "print(A.shape, B.shape)\n",
    "\n",
    "print(\"Batch Multiplication C =: \\n\")\n",
    "print(np.matmul(A, B), \"\\n\")\n",
    "\n",
    "print(\"Einsum C =: \\n\")\n",
    "print(np.einsum(\"bij, bjk -> bik\", A, B))"
   ]
  },
  {
   "cell_type": "code",
   "execution_count": null,
   "metadata": {},
   "outputs": [
    {
     "name": "stdout",
     "output_type": "stream",
     "text": [
      "Sum A =: \n",
      "\n",
      "72 \n",
      "\n",
      "Einsum A =: \n",
      "\n",
      "72\n"
     ]
    }
   ],
   "source": [
    "A = np.array([[[2, 6, 5, 2],\n",
    "             [2, -2, 2, 3],\n",
    "             [1, 5, 4, 0]],\n",
    "             [[1, 3, 1, 22],\n",
    "              [0, 2, 2, 0],\n",
    "              [1, 5, 4, 1]]])\n",
    "\n",
    "print(\"Sum A =: \\n\")\n",
    "print(np.sum(A), \"\\n\")\n",
    "\n",
    "print(\"Einsum A =: \\n\")\n",
    "print(np.einsum(\"bij ->\", A))"
   ]
  },
  {
   "cell_type": "code",
   "execution_count": null,
   "metadata": {},
   "outputs": [
    {
     "name": "stdout",
     "output_type": "stream",
     "text": [
      "Axis 0 Sum A =: \n",
      "\n",
      "[ 5  9 11  5] \n",
      "\n",
      "Einsum A =: \n",
      "\n",
      "[ 5  9 11  5]\n",
      "-----------------------------\n",
      "Axis 1 Sum A =: \n",
      "\n",
      "[15  5 10] \n",
      "\n",
      "Einsum A =: \n",
      "\n",
      "[15  5 10]\n"
     ]
    }
   ],
   "source": [
    "A = np.array([[2, 6, 5, 2],\n",
    "             [2, -2, 2, 3],\n",
    "             [1, 5, 4, 0]])\n",
    "\n",
    "print(\"Axis 0 Sum A =: \\n\")\n",
    "print(np.sum(A, axis=0), \"\\n\")\n",
    "\n",
    "print(\"Einsum A =: \\n\")\n",
    "print(np.einsum(\"ij -> j\", A))\n",
    "print(\"-----------------------------\")\n",
    "\n",
    "print(\"Axis 1 Sum A =: \\n\")\n",
    "print(np.sum(A, axis=1), \"\\n\")\n",
    "\n",
    "print(\"Einsum A =: \\n\")\n",
    "print(np.einsum(\"ij -> i\", A))"
   ]
  },
  {
   "attachments": {},
   "cell_type": "markdown",
   "metadata": {},
   "source": [
    "#### Papper Example"
   ]
  },
  {
   "cell_type": "code",
   "execution_count": null,
   "metadata": {},
   "outputs": [],
   "source": [
    "Q = batchsize, s_q, modelsize\n",
    "K = batchsize, s_k, modelsize"
   ]
  },
  {
   "cell_type": "code",
   "execution_count": null,
   "metadata": {},
   "outputs": [],
   "source": [
    "Q = np.random.randn(32, 64, 512) # bqm\n",
    "K = np.random.randn(32, 128, 512) # bkm"
   ]
  },
  {
   "cell_type": "code",
   "execution_count": null,
   "metadata": {},
   "outputs": [
    {
     "data": {
      "text/plain": [
       "(32, 64, 128)"
      ]
     },
     "metadata": {},
     "output_type": "display_data"
    }
   ],
   "source": [
    "np.einsum(\"bqm, bkm -> bqk\", Q, K).shape"
   ]
  },
  {
   "cell_type": "code",
   "execution_count": null,
   "metadata": {},
   "outputs": [],
   "source": [
    "A = np.random.randn(2, 4, 4, 2) # bcij\n",
    "B = np.random.randn(2, 4, 4, 1) # bcik"
   ]
  },
  {
   "cell_type": "code",
   "execution_count": null,
   "metadata": {},
   "outputs": [
    {
     "data": {
      "text/plain": [
       "(2, 4, 1, 2)"
      ]
     },
     "metadata": {},
     "output_type": "display_data"
    }
   ],
   "source": [
    "np.einsum(\"bcik, bcij -> bckj\", B, A).shape"
   ]
  },
  {
   "cell_type": "code",
   "execution_count": null,
   "metadata": {},
   "outputs": [
    {
     "data": {
      "text/plain": [
       "(2, 4, 1, 2)"
      ]
     },
     "metadata": {},
     "output_type": "display_data"
    }
   ],
   "source": [
    "np.matmul(np.transpose(B, (0, 1, 3, 2)), A).shape"
   ]
  }
 ],
 "metadata": {
  "language_info": {
   "name": "python"
  },
  "orig_nbformat": 4
 },
 "nbformat": 4,
 "nbformat_minor": 2
}

{
 "cells": [
  {
   "attachments": {},
   "cell_type": "markdown",
   "metadata": {},
   "source": [
    "## Common Tensorflow Functions"
   ]
  },
  {
   "attachments": {},
   "cell_type": "markdown",
   "metadata": {},
   "source": [
    "### Expand Dims Method"
   ]
  },
  {
   "attachments": {},
   "cell_type": "markdown",
   "metadata": {},
   "source": [
    "* Returns a tensor with a length 1 axis inserted at index axis.\n",
    "* [Document](https://www.tensorflow.org/api_docs/python/tf/expand_dims?hl=en)"
   ]
  },
  {
   "cell_type": "code",
   "execution_count": 4,
   "metadata": {},
   "outputs": [
    {
     "name": "stdout",
     "output_type": "stream",
     "text": [
      "(4, 2, 3)\n",
      "(1, 4, 2, 3)\n"
     ]
    }
   ],
   "source": [
    "tensor_three_d = tf.constant(\n",
    "    [[[1, 2, 0],\n",
    "    [3, 5, -1]],\n",
    "\n",
    "    [[10, 2, 0],\n",
    "    [1, 0, 2]],\n",
    "\n",
    "    [[5, 8, 0],\n",
    "    [2, 7, 0]],\n",
    "\n",
    "    [[2, 1, 9],\n",
    "    [4, -3, 32]]]\n",
    ")\n",
    "print(tensor_three_d.shape)\n",
    "print(tf.expand_dims(tensor_three_d, axis = 0).shape)"
   ]
  },
  {
   "cell_type": "code",
   "execution_count": 12,
   "metadata": {},
   "outputs": [
    {
     "name": "stdout",
     "output_type": "stream",
     "text": [
      "(4,)\n",
      "tf.Tensor([[2 3 4 5]], shape=(1, 4), dtype=int32)\n"
     ]
    }
   ],
   "source": [
    "x = tf.constant([2, 3, 4, 5])\n",
    "print(x.shape)\n",
    "print(tf.expand_dims(x, axis = 0))"
   ]
  },
  {
   "cell_type": "code",
   "execution_count": 13,
   "metadata": {},
   "outputs": [
    {
     "name": "stdout",
     "output_type": "stream",
     "text": [
      "(1, 1, 4)\n",
      "tf.Tensor([[[[2 3 4 5]]]], shape=(1, 1, 1, 4), dtype=int32)\n"
     ]
    }
   ],
   "source": [
    "x = tf.constant([[[2, 3, 4, 5]]])\n",
    "print(x.shape)\n",
    "print(tf.expand_dims(x, axis = 0))"
   ]
  },
  {
   "cell_type": "code",
   "execution_count": 14,
   "metadata": {},
   "outputs": [
    {
     "name": "stdout",
     "output_type": "stream",
     "text": [
      "(4, 2, 3)\n",
      "(4, 1, 2, 3)\n"
     ]
    }
   ],
   "source": [
    "tensor_three_d = tf.constant(\n",
    "    [[[1, 2, 0],\n",
    "    [3, 5, -1]],\n",
    "\n",
    "    [[10, 2, 0],\n",
    "    [1, 0, 2]],\n",
    "\n",
    "    [[5, 8, 0],\n",
    "    [2, 7, 0]],\n",
    "\n",
    "    [[2, 1, 9],\n",
    "    [4, -3, 32]]]\n",
    ")\n",
    "print(tensor_three_d.shape)\n",
    "print(tf.expand_dims(tensor_three_d, axis = 1).shape)"
   ]
  },
  {
   "attachments": {},
   "cell_type": "markdown",
   "metadata": {},
   "source": [
    "### Squeeze Method"
   ]
  },
  {
   "attachments": {},
   "cell_type": "markdown",
   "metadata": {},
   "source": [
    "* Removes dimensions of size 1 from the shape of a tensor.\n",
    "* [Document](https://www.tensorflow.org/api_docs/python/tf/squeeze?hl=en)"
   ]
  },
  {
   "cell_type": "code",
   "execution_count": 15,
   "metadata": {},
   "outputs": [
    {
     "name": "stdout",
     "output_type": "stream",
     "text": [
      "(1, 1, 4)\n",
      "tf.Tensor([[[[2 3 4 5]]]], shape=(1, 1, 1, 4), dtype=int32)\n"
     ]
    }
   ],
   "source": [
    "x = tf.constant([[[2, 3, 4, 5]]])\n",
    "print(x.shape)\n",
    "x_expanded = tf.expand_dims(x, axis = 0)\n",
    "print(x_expanded)"
   ]
  },
  {
   "cell_type": "code",
   "execution_count": 20,
   "metadata": {},
   "outputs": [
    {
     "name": "stdout",
     "output_type": "stream",
     "text": [
      "tf.Tensor([2 3 4 5], shape=(4,), dtype=int32)\n"
     ]
    }
   ],
   "source": [
    "x_squeezed = tf.squeeze(x_expanded, axis = 0)\n",
    "\n",
    "for i in range(2):\n",
    "    x_squeezed = tf.squeeze(x_squeezed, axis = 0)\n",
    "\n",
    "print(x_squeezed)"
   ]
  },
  {
   "cell_type": "code",
   "execution_count": 22,
   "metadata": {},
   "outputs": [
    {
     "name": "stdout",
     "output_type": "stream",
     "text": [
      "(4, 2, 3)\n",
      "(4, 2, 3, 1)\n",
      "tf.Tensor(\n",
      "[[[ 1  2  0]\n",
      "  [ 3  5 -1]]\n",
      "\n",
      " [[10  2  0]\n",
      "  [ 1  0  2]]\n",
      "\n",
      " [[ 5  8  0]\n",
      "  [ 2  7  0]]\n",
      "\n",
      " [[ 2  1  9]\n",
      "  [ 4 -3 32]]], shape=(4, 2, 3), dtype=int32)\n"
     ]
    }
   ],
   "source": [
    "tensor_three_d = tf.constant(\n",
    "    [[[1, 2, 0],\n",
    "    [3, 5, -1]],\n",
    "\n",
    "    [[10, 2, 0],\n",
    "    [1, 0, 2]],\n",
    "\n",
    "    [[5, 8, 0],\n",
    "    [2, 7, 0]],\n",
    "\n",
    "    [[2, 1, 9],\n",
    "    [4, -3, 32]]]\n",
    ")\n",
    "print(tensor_three_d.shape)\n",
    "x_exp = tf.expand_dims(tensor_three_d, axis = 3)\n",
    "print(x_exp.shape)\n",
    "print(tf.squeeze(x_exp, axis = 3))"
   ]
  },
  {
   "attachments": {},
   "cell_type": "markdown",
   "metadata": {},
   "source": [
    "### Reshape Method"
   ]
  },
  {
   "attachments": {},
   "cell_type": "markdown",
   "metadata": {},
   "source": [
    "* Reshapes a tensor.\n",
    "* [Document](https://www.tensorflow.org/api_docs/python/tf/reshape?hl=en)"
   ]
  },
  {
   "cell_type": "code",
   "execution_count": 24,
   "metadata": {},
   "outputs": [
    {
     "name": "stdout",
     "output_type": "stream",
     "text": [
      "(4, 2, 3)\n",
      "(4, 2, 3, 1)\n",
      "tf.Tensor(\n",
      "[[[ 1  2  0]\n",
      "  [ 3  5 -1]]\n",
      "\n",
      " [[10  2  0]\n",
      "  [ 1  0  2]]\n",
      "\n",
      " [[ 5  8  0]\n",
      "  [ 2  7  0]]\n",
      "\n",
      " [[ 2  1  9]\n",
      "  [ 4 -3 32]]], shape=(4, 2, 3), dtype=int32)\n",
      "tf.Tensor(\n",
      "[[[ 1  2  0]\n",
      "  [ 3  5 -1]]\n",
      "\n",
      " [[10  2  0]\n",
      "  [ 1  0  2]]\n",
      "\n",
      " [[ 5  8  0]\n",
      "  [ 2  7  0]]\n",
      "\n",
      " [[ 2  1  9]\n",
      "  [ 4 -3 32]]], shape=(4, 2, 3), dtype=int32)\n"
     ]
    }
   ],
   "source": [
    "tensor_three_d = tf.constant(\n",
    "    [[[1, 2, 0],\n",
    "    [3, 5, -1]],\n",
    "\n",
    "    [[10, 2, 0],\n",
    "    [1, 0, 2]],\n",
    "\n",
    "    [[5, 8, 0],\n",
    "    [2, 7, 0]],\n",
    "\n",
    "    [[2, 1, 9],\n",
    "    [4, -3, 32]]]\n",
    ")\n",
    "print(tensor_three_d.shape)\n",
    "x_exp = tf.expand_dims(tensor_three_d, axis = 3)\n",
    "print(x_exp.shape)\n",
    "print(tf.squeeze(x_exp, axis = 3))\n",
    "print(tf.reshape(x_exp, [4, 2, 3]))"
   ]
  },
  {
   "cell_type": "code",
   "execution_count": 38,
   "metadata": {},
   "outputs": [
    {
     "name": "stdout",
     "output_type": "stream",
     "text": [
      "tf.Tensor([ 3  5  6  6  4  6 -1  2], shape=(8,), dtype=int32)\n",
      "tf.Tensor([ 3  5  6  6  4  6 -1  2], shape=(8,), dtype=int32)\n"
     ]
    }
   ],
   "source": [
    "x_reshape = tf.constant([[3, 5, 6, 6],\n",
    "                         [4, 6, -1, 2]])\n",
    "\n",
    "print(tf.reshape(x_reshape, [8]))\n",
    "print(tf.reshape(x_reshape, [-1]))"
   ]
  },
  {
   "cell_type": "code",
   "execution_count": 36,
   "metadata": {},
   "outputs": [
    {
     "name": "stdout",
     "output_type": "stream",
     "text": [
      "tf.Tensor(\n",
      "[[ 3  5]\n",
      " [ 6  6]\n",
      " [ 4  6]\n",
      " [-1  2]], shape=(4, 2), dtype=int32)\n",
      "tf.Tensor(\n",
      "[[ 3  5]\n",
      " [ 6  6]\n",
      " [ 4  6]\n",
      " [-1  2]], shape=(4, 2), dtype=int32)\n"
     ]
    }
   ],
   "source": [
    "print(tf.reshape(x_reshape, [4, 2]))\n",
    "print(tf.reshape(x_reshape, [4, -1]))"
   ]
  },
  {
   "cell_type": "code",
   "execution_count": 37,
   "metadata": {},
   "outputs": [
    {
     "name": "stdout",
     "output_type": "stream",
     "text": [
      "tf.Tensor(\n",
      "[[[ 3]\n",
      "  [ 5]]\n",
      "\n",
      " [[ 6]\n",
      "  [ 6]]\n",
      "\n",
      " [[ 4]\n",
      "  [ 6]]\n",
      "\n",
      " [[-1]\n",
      "  [ 2]]], shape=(4, 2, 1), dtype=int32)\n"
     ]
    }
   ],
   "source": [
    "print(tf.reshape(x_reshape, [4, 2, 1]))"
   ]
  },
  {
   "attachments": {},
   "cell_type": "markdown",
   "metadata": {},
   "source": [
    "### Concat Method"
   ]
  },
  {
   "attachments": {},
   "cell_type": "markdown",
   "metadata": {},
   "source": [
    "* Concatenates tensors along one dimension.\n",
    "* [Document](https://www.tensorflow.org/api_docs/python/tf/concat?hl=en)"
   ]
  },
  {
   "cell_type": "code",
   "execution_count": 45,
   "metadata": {},
   "outputs": [
    {
     "name": "stdout",
     "output_type": "stream",
     "text": [
      "(2, 3)\n",
      "(2, 3)\n",
      "tf.Tensor(\n",
      "[[ 1  2  3]\n",
      " [ 4  5  6]\n",
      " [ 7  8  9]\n",
      " [10 11 12]], shape=(4, 3), dtype=int32)\n",
      "tf.Tensor(\n",
      "[[ 1  2  3  7  8  9]\n",
      " [ 4  5  6 10 11 12]], shape=(2, 6), dtype=int32)\n"
     ]
    }
   ],
   "source": [
    "t1 = [[1, 2, 3], \n",
    "      [4, 5, 6]]\n",
    "\n",
    "t2 = [[7, 8, 9], \n",
    "      [10, 11, 12]]\n",
    "\n",
    "print(tf.constant(t1).shape)\n",
    "print(tf.constant(t2).shape)\n",
    "\n",
    "print(tf.concat([t1, t2], axis = 0))\n",
    "print(tf.concat([t1, t2], axis = 1))"
   ]
  },
  {
   "cell_type": "code",
   "execution_count": 47,
   "metadata": {},
   "outputs": [
    {
     "name": "stdout",
     "output_type": "stream",
     "text": [
      "(1, 2, 3)\n",
      "(1, 2, 3)\n",
      "tf.Tensor(\n",
      "[[[ 1  2  3]\n",
      "  [ 4  5  6]]\n",
      "\n",
      " [[ 7  8  9]\n",
      "  [10 11 12]]], shape=(2, 2, 3), dtype=int32)\n",
      "tf.Tensor(\n",
      "[[[ 1  2  3]\n",
      "  [ 4  5  6]\n",
      "  [ 7  8  9]\n",
      "  [10 11 12]]], shape=(1, 4, 3), dtype=int32)\n",
      "tf.Tensor(\n",
      "[[[ 1  2  3  7  8  9]\n",
      "  [ 4  5  6 10 11 12]]], shape=(1, 2, 6), dtype=int32)\n"
     ]
    }
   ],
   "source": [
    "t1 = [[[1, 2, 3], \n",
    "      [4, 5, 6]]]\n",
    "\n",
    "t2 = [[[7, 8, 9], \n",
    "      [10, 11, 12]]]\n",
    "\n",
    "print(tf.constant(t1).shape)\n",
    "print(tf.constant(t2).shape)\n",
    "\n",
    "print(tf.concat([t1, t2], axis = 0))\n",
    "print(tf.concat([t1, t2], axis = 1))\n",
    "print(tf.concat([t1, t2], axis = 2))"
   ]
  },
  {
   "attachments": {},
   "cell_type": "markdown",
   "metadata": {},
   "source": [
    "### Stack Method"
   ]
  },
  {
   "attachments": {},
   "cell_type": "markdown",
   "metadata": {},
   "source": [
    "* Stacks a list of rank-R tensors into one rank-(R+1) tensor.\n",
    "* [Document](https://www.tensorflow.org/api_docs/python/tf/stack?hl=en)"
   ]
  },
  {
   "cell_type": "code",
   "execution_count": 2,
   "metadata": {},
   "outputs": [
    {
     "data": {
      "text/plain": [
       "<tf.Tensor: shape=(2, 4, 3), dtype=int32, numpy=\n",
       "array([[[ 1,  2,  3],\n",
       "        [ 4,  5,  6],\n",
       "        [ 5,  6,  2],\n",
       "        [ 1,  2,  1]],\n",
       "\n",
       "       [[ 7,  8,  9],\n",
       "        [10, 11, 12],\n",
       "        [ 0,  0,  2],\n",
       "        [-1,  5,  2]]])>"
      ]
     },
     "execution_count": 2,
     "metadata": {},
     "output_type": "execute_result"
    }
   ],
   "source": [
    "t1 = [[1, 2, 3], \n",
    "      [4, 5, 6],\n",
    "      [5, 6, 2],\n",
    "      [1, 2, 1]]\n",
    "\n",
    "t2 = [[7, 8, 9], \n",
    "      [10, 11, 12],\n",
    "      [0, 0, 2],\n",
    "      [-1, 5, 2]]\n",
    "\n",
    "tf.stack([t1, t2], axis = 0)"
   ]
  },
  {
   "cell_type": "code",
   "execution_count": 3,
   "metadata": {},
   "outputs": [
    {
     "data": {
      "text/plain": [
       "<tf.Tensor: shape=(4, 2, 3), dtype=int32, numpy=\n",
       "array([[[ 1,  2,  3],\n",
       "        [ 7,  8,  9]],\n",
       "\n",
       "       [[ 4,  5,  6],\n",
       "        [10, 11, 12]],\n",
       "\n",
       "       [[ 5,  6,  2],\n",
       "        [ 0,  0,  2]],\n",
       "\n",
       "       [[ 1,  2,  1],\n",
       "        [-1,  5,  2]]])>"
      ]
     },
     "execution_count": 3,
     "metadata": {},
     "output_type": "execute_result"
    }
   ],
   "source": [
    "tf.stack([t1, t2], axis = 1)"
   ]
  },
  {
   "cell_type": "code",
   "execution_count": 5,
   "metadata": {},
   "outputs": [
    {
     "data": {
      "text/plain": [
       "<tf.Tensor: shape=(4, 3, 2), dtype=int32, numpy=\n",
       "array([[[ 1,  7],\n",
       "        [ 2,  8],\n",
       "        [ 3,  9]],\n",
       "\n",
       "       [[ 4, 10],\n",
       "        [ 5, 11],\n",
       "        [ 6, 12]],\n",
       "\n",
       "       [[ 5,  0],\n",
       "        [ 6,  0],\n",
       "        [ 2,  2]],\n",
       "\n",
       "       [[ 1, -1],\n",
       "        [ 2,  5],\n",
       "        [ 1,  2]]])>"
      ]
     },
     "execution_count": 5,
     "metadata": {},
     "output_type": "execute_result"
    }
   ],
   "source": [
    "tf.stack([t1, t2], axis = 2)"
   ]
  },
  {
   "cell_type": "code",
   "execution_count": 6,
   "metadata": {},
   "outputs": [
    {
     "data": {
      "text/plain": [
       "<tf.Tensor: shape=(2, 4, 3), dtype=int32, numpy=\n",
       "array([[[ 1,  2,  3],\n",
       "        [ 4,  5,  6],\n",
       "        [ 5,  6,  2],\n",
       "        [ 1,  2,  1]],\n",
       "\n",
       "       [[ 7,  8,  9],\n",
       "        [10, 11, 12],\n",
       "        [ 0,  0,  2],\n",
       "        [-1,  5,  2]]])>"
      ]
     },
     "execution_count": 6,
     "metadata": {},
     "output_type": "execute_result"
    }
   ],
   "source": [
    "tf.concat([tf.expand_dims(t, axis = 0) for t in [t1, t2]], axis = 0)"
   ]
  },
  {
   "cell_type": "code",
   "execution_count": 4,
   "metadata": {},
   "outputs": [
    {
     "data": {
      "text/plain": [
       "<tf.Tensor: shape=(3, 4, 3), dtype=int32, numpy=\n",
       "array([[[ 1,  2,  3],\n",
       "        [ 4,  5,  6],\n",
       "        [ 5,  6,  2],\n",
       "        [ 1,  2,  1]],\n",
       "\n",
       "       [[ 7,  8,  9],\n",
       "        [10, 11, 12],\n",
       "        [ 0,  0,  2],\n",
       "        [-1,  5,  2]],\n",
       "\n",
       "       [[ 1,  2,  3],\n",
       "        [ 4,  5,  6],\n",
       "        [ 5,  6,  2],\n",
       "        [ 1,  2,  1]]])>"
      ]
     },
     "execution_count": 4,
     "metadata": {},
     "output_type": "execute_result"
    }
   ],
   "source": [
    "tf.stack([t1, t2, t1], axis = 0)"
   ]
  },
  {
   "attachments": {},
   "cell_type": "markdown",
   "metadata": {},
   "source": [
    "### Pad Method"
   ]
  },
  {
   "attachments": {},
   "cell_type": "markdown",
   "metadata": {},
   "source": [
    "* Pads a tensor.\n",
    "* [Document](https://www.tensorflow.org/api_docs/python/tf/pad?hl=en)"
   ]
  },
  {
   "cell_type": "code",
   "execution_count": 10,
   "metadata": {},
   "outputs": [
    {
     "data": {
      "text/plain": [
       "<tf.Tensor: shape=(4, 7), dtype=int32, numpy=\n",
       "array([[3, 3, 3, 3, 3, 3, 3],\n",
       "       [3, 3, 1, 2, 3, 3, 3],\n",
       "       [3, 3, 4, 5, 6, 3, 3],\n",
       "       [3, 3, 3, 3, 3, 3, 3]])>"
      ]
     },
     "execution_count": 10,
     "metadata": {},
     "output_type": "execute_result"
    }
   ],
   "source": [
    "t = tf.constant([[1, 2, 3], [4, 5, 6]])\n",
    "paddings = tf.constant([[1, 1,], [2, 2]]) # [top, bottom], [left, right]\n",
    "\n",
    "tf.pad(t, paddings, \"CONSTANT\", constant_values=3)"
   ]
  },
  {
   "cell_type": "code",
   "execution_count": 12,
   "metadata": {},
   "outputs": [
    {
     "data": {
      "text/plain": [
       "<tf.Tensor: shape=(4, 7), dtype=int32, numpy=\n",
       "array([[6, 5, 4, 5, 6, 5, 4],\n",
       "       [3, 2, 1, 2, 3, 2, 1],\n",
       "       [6, 5, 4, 5, 6, 5, 4],\n",
       "       [3, 2, 1, 2, 3, 2, 1]])>"
      ]
     },
     "execution_count": 12,
     "metadata": {},
     "output_type": "execute_result"
    }
   ],
   "source": [
    "tf.pad(t, paddings, \"REFLECT\")"
   ]
  },
  {
   "cell_type": "code",
   "execution_count": 13,
   "metadata": {},
   "outputs": [
    {
     "data": {
      "text/plain": [
       "<tf.Tensor: shape=(4, 7), dtype=int32, numpy=\n",
       "array([[2, 1, 1, 2, 3, 3, 2],\n",
       "       [2, 1, 1, 2, 3, 3, 2],\n",
       "       [5, 4, 4, 5, 6, 6, 5],\n",
       "       [5, 4, 4, 5, 6, 6, 5]])>"
      ]
     },
     "execution_count": 13,
     "metadata": {},
     "output_type": "execute_result"
    }
   ],
   "source": [
    "tf.pad(t, paddings, \"SYMMETRIC\")"
   ]
  },
  {
   "attachments": {},
   "cell_type": "markdown",
   "metadata": {},
   "source": [
    "### Gather Method"
   ]
  },
  {
   "attachments": {},
   "cell_type": "markdown",
   "metadata": {},
   "source": [
    "* Gather slices from params axis axis according to indices. (deprecated arguments)\n",
    "* [Document](https://www.tensorflow.org/api_docs/python/tf/gather?hl=en)"
   ]
  },
  {
   "cell_type": "code",
   "execution_count": 16,
   "metadata": {},
   "outputs": [
    {
     "data": {
      "text/plain": [
       "<tf.Tensor: shape=(3,), dtype=string, numpy=array([b'p1', b'p2', b'p3'], dtype=object)>"
      ]
     },
     "execution_count": 16,
     "metadata": {},
     "output_type": "execute_result"
    }
   ],
   "source": [
    "params = tf.constant(['p0', 'p1', 'p2', 'p3', 'p4', 'p5'])\n",
    "params[1:3+1]"
   ]
  },
  {
   "cell_type": "code",
   "execution_count": 17,
   "metadata": {},
   "outputs": [
    {
     "data": {
      "text/plain": [
       "<tf.Tensor: shape=(3,), dtype=string, numpy=array([b'p1', b'p2', b'p3'], dtype=object)>"
      ]
     },
     "execution_count": 17,
     "metadata": {},
     "output_type": "execute_result"
    }
   ],
   "source": [
    "tf.gather(params, [1, 2, 3])"
   ]
  },
  {
   "cell_type": "code",
   "execution_count": 18,
   "metadata": {},
   "outputs": [
    {
     "data": {
      "text/plain": [
       "<tf.Tensor: shape=(3,), dtype=string, numpy=array([b'p1', b'p2', b'p3'], dtype=object)>"
      ]
     },
     "execution_count": 18,
     "metadata": {},
     "output_type": "execute_result"
    }
   ],
   "source": [
    "tf.gather(params, tf.range(1, 4))"
   ]
  },
  {
   "cell_type": "code",
   "execution_count": 28,
   "metadata": {},
   "outputs": [
    {
     "data": {
      "text/plain": [
       "<tf.Tensor: shape=(1, 3), dtype=float32, numpy=array([[0., 1., 2.]], dtype=float32)>"
      ]
     },
     "execution_count": 28,
     "metadata": {},
     "output_type": "execute_result"
    }
   ],
   "source": [
    "params = tf.constant([[0, 1.0, 2.0],\n",
    "                     [10.0, 11.0, 12.0],\n",
    "                     [20.0, 21.0, 22.0],\n",
    "                     [30.0, 31.0, 32.0]])\n",
    "\n",
    "tf.gather(params, [0], axis = 0)"
   ]
  },
  {
   "cell_type": "code",
   "execution_count": 25,
   "metadata": {},
   "outputs": [
    {
     "data": {
      "text/plain": [
       "<tf.Tensor: shape=(2, 3), dtype=float32, numpy=\n",
       "array([[ 0.,  1.,  2.],\n",
       "       [30., 31., 32.]], dtype=float32)>"
      ]
     },
     "execution_count": 25,
     "metadata": {},
     "output_type": "execute_result"
    }
   ],
   "source": [
    "tf.gather(params, [0, 3], axis = 0)"
   ]
  },
  {
   "cell_type": "code",
   "execution_count": 32,
   "metadata": {},
   "outputs": [
    {
     "data": {
      "text/plain": [
       "<tf.Tensor: shape=(4, 2), dtype=float32, numpy=\n",
       "array([[ 0.,  2.],\n",
       "       [10., 12.],\n",
       "       [20., 22.],\n",
       "       [30., 32.]], dtype=float32)>"
      ]
     },
     "execution_count": 32,
     "metadata": {},
     "output_type": "execute_result"
    }
   ],
   "source": [
    "tf.gather(params, [0, 2], axis = 1)"
   ]
  },
  {
   "cell_type": "code",
   "execution_count": 33,
   "metadata": {},
   "outputs": [
    {
     "data": {
      "text/plain": [
       "<tf.Tensor: shape=(4, 2), dtype=float32, numpy=\n",
       "array([[ 2.,  0.],\n",
       "       [12., 10.],\n",
       "       [22., 20.],\n",
       "       [32., 30.]], dtype=float32)>"
      ]
     },
     "execution_count": 33,
     "metadata": {},
     "output_type": "execute_result"
    }
   ],
   "source": [
    "tf.gather(params, [2, 0], axis = 1)"
   ]
  },
  {
   "cell_type": "code",
   "execution_count": 37,
   "metadata": {},
   "outputs": [
    {
     "data": {
      "text/plain": [
       "<tf.Tensor: shape=(2, 4, 3), dtype=float32, numpy=\n",
       "array([[[ 0.,  1.,  2.],\n",
       "        [10., 11., 12.],\n",
       "        [20., 21., 22.],\n",
       "        [30., 31., 32.]],\n",
       "\n",
       "       [[ 0.,  1.,  2.],\n",
       "        [10., 11., 12.],\n",
       "        [20., 21., 22.],\n",
       "        [30., 31., 32.]]], dtype=float32)>"
      ]
     },
     "execution_count": 37,
     "metadata": {},
     "output_type": "execute_result"
    }
   ],
   "source": [
    "params = tf.constant([[[0, 1.0, 2.0],\n",
    "                     [10.0, 11.0, 12.0],\n",
    "                     [20.0, 21.0, 22.0],\n",
    "                     [30.0, 31.0, 32.0]]])\n",
    "\n",
    "tf.gather(params, [0, 0], axis = 0)"
   ]
  },
  {
   "cell_type": "code",
   "execution_count": 39,
   "metadata": {},
   "outputs": [
    {
     "data": {
      "text/plain": [
       "<tf.Tensor: shape=(1, 2, 3), dtype=float32, numpy=\n",
       "array([[[20., 21., 22.],\n",
       "        [ 0.,  1.,  2.]]], dtype=float32)>"
      ]
     },
     "execution_count": 39,
     "metadata": {},
     "output_type": "execute_result"
    }
   ],
   "source": [
    "tf.gather(params, [2, 0], axis = 1)"
   ]
  },
  {
   "attachments": {},
   "cell_type": "markdown",
   "metadata": {},
   "source": [
    "### Gather Nd Method"
   ]
  },
  {
   "attachments": {},
   "cell_type": "markdown",
   "metadata": {},
   "source": [
    "* Gather slices from params into a Tensor with shape specified by indices.\n",
    "* [Document](https://www.tensorflow.org/api_docs/python/tf/gather_nd?hl=en)"
   ]
  },
  {
   "cell_type": "code",
   "execution_count": 2,
   "metadata": {},
   "outputs": [
    {
     "data": {
      "text/plain": [
       "<tf.Tensor: shape=(2, 2), dtype=string, numpy=\n",
       "array([[b'a', b'b'],\n",
       "       [b'c', b'd']], dtype=object)>"
      ]
     },
     "execution_count": 2,
     "metadata": {},
     "output_type": "execute_result"
    }
   ],
   "source": [
    "indices = [[0],\n",
    "           [1]]\n",
    "\n",
    "params = [['a', 'b'],\n",
    "          ['c', 'd']]\n",
    "\n",
    "tf.gather_nd(params, indices)"
   ]
  },
  {
   "cell_type": "code",
   "execution_count": 3,
   "metadata": {},
   "outputs": [
    {
     "data": {
      "text/plain": [
       "<tf.Tensor: shape=(1, 2), dtype=string, numpy=array([[b'a', b'b']], dtype=object)>"
      ]
     },
     "execution_count": 3,
     "metadata": {},
     "output_type": "execute_result"
    }
   ],
   "source": [
    "indices = [[0]]\n",
    "\n",
    "params = [['a', 'b'],\n",
    "          ['c', 'd']]\n",
    "\n",
    "tf.gather_nd(params, indices)"
   ]
  },
  {
   "cell_type": "code",
   "execution_count": 4,
   "metadata": {},
   "outputs": [
    {
     "data": {
      "text/plain": [
       "<tf.Tensor: shape=(1, 2), dtype=string, numpy=array([[b'e', b'f']], dtype=object)>"
      ]
     },
     "execution_count": 4,
     "metadata": {},
     "output_type": "execute_result"
    }
   ],
   "source": [
    "indices = [[2]]\n",
    "\n",
    "params = [['a', 'b'],\n",
    "          ['c', 'd'],\n",
    "          ['e', 'f']]\n",
    "\n",
    "tf.gather_nd(params, indices)"
   ]
  },
  {
   "cell_type": "code",
   "execution_count": 13,
   "metadata": {},
   "outputs": [
    {
     "data": {
      "text/plain": [
       "<tf.Tensor: shape=(), dtype=string, numpy=b'f'>"
      ]
     },
     "execution_count": 13,
     "metadata": {},
     "output_type": "execute_result"
    }
   ],
   "source": [
    "indices = [2, 1]\n",
    "\n",
    "params = [['a', 'b'],\n",
    "          ['c', 'd'],\n",
    "          ['e', 'f']]\n",
    "\n",
    "tf.gather_nd(params, indices)"
   ]
  },
  {
   "cell_type": "code",
   "execution_count": 19,
   "metadata": {},
   "outputs": [
    {
     "data": {
      "text/plain": [
       "<tf.Tensor: shape=(2, 2), dtype=string, numpy=\n",
       "array([[b'e', b'f'],\n",
       "       [b'c', b'd']], dtype=object)>"
      ]
     },
     "execution_count": 19,
     "metadata": {},
     "output_type": "execute_result"
    }
   ],
   "source": [
    "tf.gather(params, indices, axis = 0)"
   ]
  },
  {
   "cell_type": "code",
   "execution_count": 20,
   "metadata": {},
   "outputs": [
    {
     "data": {
      "text/plain": [
       "<tf.Tensor: shape=(2, 2), dtype=string, numpy=\n",
       "array([[b'c0', b'd0'],\n",
       "       [b'a1', b'b1']], dtype=object)>"
      ]
     },
     "execution_count": 20,
     "metadata": {},
     "output_type": "execute_result"
    }
   ],
   "source": [
    "indices = [[0, 1], [1, 0]]\n",
    "\n",
    "params = [[['a0', 'b0'], \n",
    "           ['c0', 'd0']],\n",
    "          [['a1', 'b1'], \n",
    "           ['c1', 'd1']]]\n",
    "\n",
    "tf.gather_nd(params, indices)"
   ]
  },
  {
   "cell_type": "code",
   "execution_count": 21,
   "metadata": {},
   "outputs": [
    {
     "data": {
      "text/plain": [
       "<tf.Tensor: shape=(2,), dtype=string, numpy=array([b'c0', b'b1'], dtype=object)>"
      ]
     },
     "execution_count": 21,
     "metadata": {},
     "output_type": "execute_result"
    }
   ],
   "source": [
    "indices = [[0, 1, 0], [1, 0, 1]]\n",
    "\n",
    "params = [[['a0', 'b0'], \n",
    "           ['c0', 'd0']],\n",
    "          [['a1', 'b1'], \n",
    "           ['c1', 'd1']]]\n",
    "\n",
    "tf.gather_nd(params, indices)"
   ]
  },
  {
   "cell_type": "code",
   "execution_count": 22,
   "metadata": {},
   "outputs": [
    {
     "data": {
      "text/plain": [
       "<tf.Tensor: shape=(2, 2, 2), dtype=string, numpy=\n",
       "array([[[b'c0', b'd0'],\n",
       "        [b'a1', b'b1']],\n",
       "\n",
       "       [[b'a0', b'b0'],\n",
       "        [b'c1', b'd1']]], dtype=object)>"
      ]
     },
     "execution_count": 22,
     "metadata": {},
     "output_type": "execute_result"
    }
   ],
   "source": [
    "indices = [[[0, 1], \n",
    "            [1, 0]],\n",
    "           [[0, 0],\n",
    "            [1, 1]]]\n",
    "\n",
    "params = [[['a0', 'b0'], \n",
    "           ['c0', 'd0']],\n",
    "          [['a1', 'b1'], \n",
    "           ['c1', 'd1']]]\n",
    "\n",
    "tf.gather_nd(params, indices)"
   ]
  },
  {
   "cell_type": "code",
   "execution_count": 23,
   "metadata": {},
   "outputs": [
    {
     "data": {
      "text/plain": [
       "<tf.Tensor: shape=(2, 2), dtype=string, numpy=\n",
       "array([[b'c0', b'd0'],\n",
       "       [b'a1', b'b1']], dtype=object)>"
      ]
     },
     "execution_count": 23,
     "metadata": {},
     "output_type": "execute_result"
    }
   ],
   "source": [
    "indices = [[0, 1], [1, 0]]\n",
    "\n",
    "params = [[['a0', 'b0'], \n",
    "           ['c0', 'd0']],\n",
    "          [['a1', 'b1'], \n",
    "           ['c1', 'd1']]]\n",
    "\n",
    "tf.gather_nd(params, indices, batch_dims = 0)"
   ]
  },
  {
   "cell_type": "code",
   "execution_count": 24,
   "metadata": {},
   "outputs": [
    {
     "data": {
      "text/plain": [
       "<tf.Tensor: shape=(2,), dtype=string, numpy=array([b'b0', b'c1'], dtype=object)>"
      ]
     },
     "execution_count": 24,
     "metadata": {},
     "output_type": "execute_result"
    }
   ],
   "source": [
    "indices = [[0, 1], [1, 0]]\n",
    "\n",
    "params = [[['a0', 'b0'], \n",
    "           ['c0', 'd0']],\n",
    "          [['a1', 'b1'], \n",
    "           ['c1', 'd1']]]\n",
    "\n",
    "tf.gather_nd(params, indices, batch_dims = 1)"
   ]
  },
  {
   "cell_type": "code",
   "execution_count": 25,
   "metadata": {},
   "outputs": [
    {
     "data": {
      "text/plain": [
       "<tf.Tensor: shape=(2, 2, 2), dtype=string, numpy=\n",
       "array([[[b'c0', b'd0'],\n",
       "        [b'a1', b'b1']],\n",
       "\n",
       "       [[b'a0', b'b0'],\n",
       "        [b'c1', b'd1']]], dtype=object)>"
      ]
     },
     "execution_count": 25,
     "metadata": {},
     "output_type": "execute_result"
    }
   ],
   "source": [
    "indices = [[[0, 1], \n",
    "            [1, 0]],\n",
    "           [[0, 0],\n",
    "            [1, 1]]]\n",
    "\n",
    "params = [[['a0', 'b0'], \n",
    "           ['c0', 'd0']],\n",
    "          [['a1', 'b1'], \n",
    "           ['c1', 'd1']]]\n",
    "\n",
    "tf.gather_nd(params, indices, batch_dims = 0)"
   ]
  },
  {
   "cell_type": "code",
   "execution_count": 26,
   "metadata": {},
   "outputs": [
    {
     "data": {
      "text/plain": [
       "<tf.Tensor: shape=(2, 2), dtype=string, numpy=\n",
       "array([[b'b0', b'c0'],\n",
       "       [b'a1', b'd1']], dtype=object)>"
      ]
     },
     "execution_count": 26,
     "metadata": {},
     "output_type": "execute_result"
    }
   ],
   "source": [
    "indices = [[[0, 1], \n",
    "            [1, 0]],\n",
    "           [[0, 0],\n",
    "            [1, 1]]]\n",
    "\n",
    "params = [[['a0', 'b0'], \n",
    "           ['c0', 'd0']],\n",
    "          [['a1', 'b1'], \n",
    "           ['c1', 'd1']]]\n",
    "\n",
    "tf.gather_nd(params, indices, batch_dims = 1)"
   ]
  }
 ],
 "metadata": {
  "kernelspec": {
   "display_name": "Python 3",
   "language": "python",
   "name": "python3"
  },
  "language_info": {
   "codemirror_mode": {
    "name": "ipython",
    "version": 3
   },
   "file_extension": ".py",
   "mimetype": "text/x-python",
   "name": "python",
   "nbconvert_exporter": "python",
   "pygments_lexer": "ipython3",
   "version": "3.10.9"
  },
  "orig_nbformat": 4
 },
 "nbformat": 4,
 "nbformat_minor": 2
}

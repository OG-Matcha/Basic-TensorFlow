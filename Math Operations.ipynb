{
 "cells": [
  {
   "attachments": {},
   "cell_type": "markdown",
   "metadata": {},
   "source": [
    "## Maths Operations"
   ]
  },
  {
   "attachments": {},
   "cell_type": "markdown",
   "metadata": {},
   "source": [
    "### Abs Method"
   ]
  },
  {
   "attachments": {},
   "cell_type": "markdown",
   "metadata": {},
   "source": [
    "* Computes the absolute value of a tensor.\n",
    "* [Document](https://www.tensorflow.org/api_docs/python/tf/math/abs?hl=en)\n",
    "\n",
    "$$\n",
    "abs(x) = \n",
    "\\begin{cases}\n",
    "-x & \\quad \\text{when $x \\lt 0$}\\\\\n",
    "x & \\quad \\text{when $x \\gt 0$}\n",
    "\\end{cases}\n",
    "$$"
   ]
  },
  {
   "cell_type": "code",
   "execution_count": null,
   "metadata": {},
   "outputs": [
    {
     "data": {
      "text/plain": [
       "<tf.Tensor: shape=(2,), dtype=float32, numpy=array([2.25, 3.25], dtype=float32)>"
      ]
     },
     "metadata": {},
     "output_type": "display_data"
    }
   ],
   "source": [
    "x_abs = tf.constant([-2.25, 3.25])\n",
    "tf.abs(x=x_abs, name=None)"
   ]
  },
  {
   "cell_type": "code",
   "execution_count": null,
   "metadata": {},
   "outputs": [
    {
     "data": {
      "text/plain": [
       "<tf.Tensor: shape=(), dtype=float32, numpy=0.2>"
      ]
     },
     "metadata": {},
     "output_type": "display_data"
    }
   ],
   "source": [
    "tf.abs(tf.constant(-0.2))"
   ]
  },
  {
   "attachments": {},
   "cell_type": "markdown",
   "metadata": {},
   "source": [
    "#### Used in Complex"
   ]
  },
  {
   "attachments": {},
   "cell_type": "markdown",
   "metadata": {},
   "source": [
    "$$\n",
    "abs(a+b_{j}) = \\sqrt{a^2+b^2}\n",
    "$$"
   ]
  },
  {
   "cell_type": "code",
   "execution_count": null,
   "metadata": {},
   "outputs": [
    {
     "data": {
      "text/plain": [
       "<tf.Tensor: shape=(2, 1), dtype=float64, numpy=\n",
       "array([[5.25594901],\n",
       "       [6.60492241]])>"
      ]
     },
     "metadata": {},
     "output_type": "display_data"
    }
   ],
   "source": [
    "x_abs_complex = tf.constant([[-2.25 + 4.75j], [-3.25 + 5.75j]])\n",
    "tf.abs(x_abs_complex)"
   ]
  },
  {
   "cell_type": "code",
   "execution_count": null,
   "metadata": {},
   "outputs": [
    {
     "data": {
      "text/plain": [
       "<tf.Tensor: shape=(), dtype=float32, numpy=5.255949>"
      ]
     },
     "metadata": {},
     "output_type": "display_data"
    }
   ],
   "source": [
    "tf.sqrt((-2.25)**2 + 4.75**2)"
   ]
  },
  {
   "attachments": {},
   "cell_type": "markdown",
   "metadata": {},
   "source": [
    "### Calculation Methods"
   ]
  },
  {
   "cell_type": "code",
   "execution_count": null,
   "metadata": {},
   "outputs": [
    {
     "name": "stdout",
     "output_type": "stream",
     "text": [
      "tf.Tensor([12  9  8 12 11 17], shape=(6,), dtype=int32)\n",
      "tf.Tensor([-2 -3  4  0 -3 -5], shape=(6,), dtype=int32)\n",
      "tf.Tensor([35 18 12 36 28 66], shape=(6,), dtype=int32)\n",
      "tf.Tensor([0.71428571 0.5        3.         1.         0.57142857 0.54545455], shape=(6,), dtype=float64)\n"
     ]
    }
   ],
   "source": [
    "x_1 = tf.constant([5, 3, 6, 6, 4, 6], dtype=tf.int32)\n",
    "x_2 = tf.constant([7, 6, 2, 6, 7, 11], dtype=tf.int32)\n",
    "\n",
    "print(tf.add(x_1, x_2))\n",
    "print(tf.subtract(x_1, x_2))\n",
    "print(tf.multiply(x_1, x_2))\n",
    "print(tf.divide(x_1, x_2))"
   ]
  },
  {
   "attachments": {},
   "cell_type": "markdown",
   "metadata": {},
   "source": [
    "### Divide No Nan Method"
   ]
  },
  {
   "cell_type": "code",
   "execution_count": null,
   "metadata": {},
   "outputs": [
    {
     "name": "stdout",
     "output_type": "stream",
     "text": [
      "tf.Tensor([0.71428573 0.5        3.         1.         0.         0.54545456], shape=(6,), dtype=float32)\n"
     ]
    }
   ],
   "source": [
    "x_1 = tf.constant([5, 3, 6, 6, 4, 6], dtype=tf.float32)\n",
    "x_2 = tf.constant([7, 6, 2, 6, 0, 11], dtype=tf.float32)\n",
    "\n",
    "print(tf.math.divide_no_nan(x_1, x_2))"
   ]
  },
  {
   "attachments": {},
   "cell_type": "markdown",
   "metadata": {},
   "source": [
    "### Broadcasting"
   ]
  },
  {
   "attachments": {},
   "cell_type": "markdown",
   "metadata": {},
   "source": [
    "* Stretched out smaller tensor to match the shape of bigger tensor"
   ]
  },
  {
   "cell_type": "code",
   "execution_count": null,
   "metadata": {},
   "outputs": [
    {
     "name": "stdout",
     "output_type": "stream",
     "text": [
      "tf.Tensor([12. 10. 13. 13. 11. 13.], shape=(6,), dtype=float32)\n",
      "tf.Tensor([12. 10. 13. 13. 11. 13.], shape=(6,), dtype=float32)\n"
     ]
    }
   ],
   "source": [
    "x_1 = tf.constant([5, 3, 6, 6, 4, 6], dtype=tf.float32)\n",
    "x_2 = tf.constant([7], dtype=tf.float32)\n",
    "x_2_stretched = tf.constant([7, 7, 7, 7, 7, 7], dtype=tf.float32)\n",
    "\n",
    "print(tf.math.add(x_1, x_2))\n",
    "print(tf.math.add(x_1, x_2_stretched))"
   ]
  },
  {
   "cell_type": "code",
   "execution_count": null,
   "metadata": {},
   "outputs": [
    {
     "name": "stdout",
     "output_type": "stream",
     "text": [
      "tf.Tensor(\n",
      "[[12. 10. 13. 13. 11. 13.]\n",
      " [12. 52. 72. 12. 60. 11.]], shape=(2, 6), dtype=float32)\n",
      "tf.Tensor(\n",
      "[[12. 10. 13. 13. 11. 13.]\n",
      " [12. 52. 72. 12. 60. 11.]], shape=(2, 6), dtype=float32)\n"
     ]
    }
   ],
   "source": [
    "x_1 = tf.constant([[5, 3, 6, 6, 4, 6], [5, 45, 65, 5, 53, 4]], dtype=tf.float32)\n",
    "x_2 = tf.constant([7], dtype=tf.float32)\n",
    "x_2_stretched = tf.constant([7, 7, 7, 7, 7, 7], dtype=tf.float32)\n",
    "\n",
    "print(tf.math.add(x_1, x_2))\n",
    "print(tf.math.add(x_1, x_2_stretched))"
   ]
  },
  {
   "cell_type": "code",
   "execution_count": null,
   "metadata": {},
   "outputs": [
    {
     "name": "stdout",
     "output_type": "stream",
     "text": [
      "tf.Tensor([[12. 10. 13. 13. 11. 13.]], shape=(1, 6), dtype=float32)\n",
      "tf.Tensor([[12. 10. 13. 13. 11. 13.]], shape=(1, 6), dtype=float32)\n"
     ]
    }
   ],
   "source": [
    "x_1 = tf.constant([[5, 3, 6, 6, 4, 6],], dtype=tf.float32)\n",
    "x_2 = tf.constant([7], dtype=tf.float32)\n",
    "x_2_stretched = tf.constant([7, 7, 7, 7, 7, 7], dtype=tf.float32)\n",
    "\n",
    "print(tf.math.add(x_1, x_2))\n",
    "print(tf.math.add(x_1, x_2_stretched))"
   ]
  },
  {
   "cell_type": "code",
   "execution_count": null,
   "metadata": {},
   "outputs": [
    {
     "name": "stdout",
     "output_type": "stream",
     "text": [
      "(1, 6)\n",
      "(3, 1)\n",
      "tf.Tensor(\n",
      "[[35. 21. 42. 42. 28. 42.]\n",
      " [25. 15. 30. 30. 20. 30.]\n",
      " [15.  9. 18. 18. 12. 18.]], shape=(3, 6), dtype=float32)\n"
     ]
    }
   ],
   "source": [
    "x_1 = tf.constant([[5, 3, 6, 6, 4, 6],], dtype=tf.float32)\n",
    "x_2 = tf.constant([[7], [5], [3]], dtype=tf.float32)\n",
    "x_2_stretched = tf.constant([7, 7, 7, 7, 7, 7], dtype=tf.float32)\n",
    "\n",
    "print(x_1.shape)\n",
    "print(x_2.shape)\n",
    "print(tf.math.multiply(x_1, x_2))\n"
   ]
  },
  {
   "attachments": {},
   "cell_type": "markdown",
   "metadata": {},
   "source": [
    "### Maximum Method"
   ]
  },
  {
   "attachments": {},
   "cell_type": "markdown",
   "metadata": {},
   "source": [
    "* Returns the max of x and y (i.e. x > y ? x : y) element-wise.\n",
    "* [Document](https://www.tensorflow.org/api_docs/python/tf/math/maximum?hl=en)"
   ]
  },
  {
   "cell_type": "code",
   "execution_count": null,
   "metadata": {},
   "outputs": [
    {
     "data": {
      "text/plain": [
       "<tf.Tensor: shape=(4,), dtype=float32, numpy=array([0., 0., 2., 5.], dtype=float32)>"
      ]
     },
     "metadata": {},
     "output_type": "display_data"
    }
   ],
   "source": [
    "x = tf.constant([0., 0., 0., 0.])\n",
    "y = tf.constant([-2., 0., 2., 5.])\n",
    "tf.math.maximum(x, y)"
   ]
  },
  {
   "cell_type": "code",
   "execution_count": null,
   "metadata": {},
   "outputs": [
    {
     "data": {
      "text/plain": [
       "<tf.Tensor: shape=(4,), dtype=float32, numpy=array([-3.,  0.,  0.,  0.], dtype=float32)>"
      ]
     },
     "metadata": {},
     "output_type": "display_data"
    }
   ],
   "source": [
    "x = tf.constant([-5., 0., 0., 0.])\n",
    "y = tf.constant([-3.])\n",
    "tf.math.maximum(x, y)"
   ]
  },
  {
   "attachments": {},
   "cell_type": "markdown",
   "metadata": {},
   "source": [
    "### Minimun Method"
   ]
  },
  {
   "attachments": {},
   "cell_type": "markdown",
   "metadata": {},
   "source": [
    "* Returns the min of x and y (i.e. x < y ? x : y) element-wise.\n",
    "* [Document](https://www.tensorflow.org/api_docs/python/tf/math/minimum?hl=en)"
   ]
  },
  {
   "cell_type": "code",
   "execution_count": null,
   "metadata": {},
   "outputs": [
    {
     "data": {
      "text/plain": [
       "<tf.Tensor: shape=(4,), dtype=float32, numpy=array([-5., -2.,  0.,  0.], dtype=float32)>"
      ]
     },
     "metadata": {},
     "output_type": "display_data"
    }
   ],
   "source": [
    "x = tf.constant([0., 0., 0., 0.])\n",
    "y = tf.constant([-5., -2., 0., 3.])\n",
    "tf.math.minimum(x, y)"
   ]
  },
  {
   "cell_type": "code",
   "execution_count": null,
   "metadata": {},
   "outputs": [
    {
     "data": {
      "text/plain": [
       "<tf.Tensor: shape=(4,), dtype=float32, numpy=array([-5., -3., -3., -3.], dtype=float32)>"
      ]
     },
     "metadata": {},
     "output_type": "display_data"
    }
   ],
   "source": [
    "x = tf.constant([-5., 0., 0., 0.])\n",
    "y = tf.constant([-3.])\n",
    "tf.math.minimum(x, y)"
   ]
  },
  {
   "attachments": {},
   "cell_type": "markdown",
   "metadata": {},
   "source": [
    "### Argmax Method"
   ]
  },
  {
   "attachments": {},
   "cell_type": "markdown",
   "metadata": {},
   "source": [
    "* Returns the index with the largesth value across axes of a tensor.\n",
    "* [Document](https://www.tensorflow.org/api_docs/python/tf/math/argmax?hl=en)"
   ]
  },
  {
   "cell_type": "code",
   "execution_count": null,
   "metadata": {},
   "outputs": [
    {
     "name": "stdout",
     "output_type": "stream",
     "text": [
      "tf.Tensor(2, shape=(), dtype=int64)\n"
     ]
    }
   ],
   "source": [
    "x_argmax = tf.constant([2, 20, 30, 3, 6])\n",
    "print(tf.math.argmax(x_argmax))"
   ]
  },
  {
   "cell_type": "code",
   "execution_count": null,
   "metadata": {},
   "outputs": [
    {
     "name": "stdout",
     "output_type": "stream",
     "text": [
      "tf.Tensor(0, shape=(), dtype=int64)\n"
     ]
    }
   ],
   "source": [
    "x_argmax = tf.constant([200, 120, 130, 3, 6])\n",
    "print(tf.math.argmax(x_argmax))"
   ]
  },
  {
   "cell_type": "code",
   "execution_count": null,
   "metadata": {},
   "outputs": [
    {
     "name": "stdout",
     "output_type": "stream",
     "text": [
      "(3, 5)\n",
      "tf.Tensor([2 2 0 2 2], shape=(5,), dtype=int64)\n"
     ]
    }
   ],
   "source": [
    "x_argmax = tf.constant([[2, 20, 30, 3, 6], \n",
    "                        [3, 11, 16, 1, 8],\n",
    "                        [14, 45, 23, 5, 27]])\n",
    "print(x_argmax.shape)\n",
    "print(tf.math.argmax(x_argmax, 0))"
   ]
  },
  {
   "cell_type": "code",
   "execution_count": null,
   "metadata": {},
   "outputs": [
    {
     "name": "stdout",
     "output_type": "stream",
     "text": [
      "(3, 5)\n",
      "tf.Tensor([2 2 1], shape=(3,), dtype=int64)\n"
     ]
    }
   ],
   "source": [
    "x_argmax = tf.constant([[2, 20, 30, 3, 6], \n",
    "                        [3, 11, 16, 1, 8],\n",
    "                        [14, 45, 23, 5, 27]])\n",
    "print(x_argmax.shape)\n",
    "print(tf.math.argmax(x_argmax, 1))"
   ]
  },
  {
   "attachments": {},
   "cell_type": "markdown",
   "metadata": {},
   "source": [
    "### Argmin Method"
   ]
  },
  {
   "attachments": {},
   "cell_type": "markdown",
   "metadata": {},
   "source": [
    "* Returns the index with the smallest value across axes of a tensor.\n",
    "* [Document](https://www.tensorflow.org/api_docs/python/tf/math/argmin?hl=en)"
   ]
  },
  {
   "cell_type": "code",
   "execution_count": null,
   "metadata": {},
   "outputs": [
    {
     "name": "stdout",
     "output_type": "stream",
     "text": [
      "(3, 5)\n"
     ]
    }
   ],
   "source": [
    "x_argmin = tf.constant([[2, 20, 30, 3, 6], \n",
    "                        [3, 11, 16, 1, 8],\n",
    "                        [14, 45, 23, 5, 27]])\n",
    "print(x_argmin.shape)"
   ]
  },
  {
   "cell_type": "code",
   "execution_count": null,
   "metadata": {},
   "outputs": [
    {
     "name": "stdout",
     "output_type": "stream",
     "text": [
      "tf.Tensor(0, shape=(), dtype=int64)\n"
     ]
    }
   ],
   "source": [
    "x_argmin = tf.constant([2, 20, 30, 3, 6])\n",
    "print(tf.math.argmin(x_argmin))"
   ]
  },
  {
   "cell_type": "code",
   "execution_count": null,
   "metadata": {},
   "outputs": [
    {
     "name": "stdout",
     "output_type": "stream",
     "text": [
      "tf.Tensor(3, shape=(), dtype=int64)\n"
     ]
    }
   ],
   "source": [
    "x_argmin = tf.constant([200, 120, 130, 3, 6])\n",
    "print(tf.math.argmin(x_argmin))"
   ]
  },
  {
   "cell_type": "code",
   "execution_count": null,
   "metadata": {},
   "outputs": [
    {
     "name": "stdout",
     "output_type": "stream",
     "text": [
      "(3, 5)\n",
      "tf.Tensor([0 1 1 1 0], shape=(5,), dtype=int64)\n"
     ]
    }
   ],
   "source": [
    "x_argmin = tf.constant([[2, 20, 30, 3, 6], \n",
    "                        [3, 11, 16, 1, 8],\n",
    "                        [14, 45, 23, 5, 27]])\n",
    "print(x_argmin.shape)\n",
    "print(tf.math.argmin(x_argmin, 0))"
   ]
  },
  {
   "cell_type": "code",
   "execution_count": null,
   "metadata": {},
   "outputs": [
    {
     "name": "stdout",
     "output_type": "stream",
     "text": [
      "(3, 5)\n",
      "tf.Tensor([0 3 3], shape=(3,), dtype=int64)\n"
     ]
    }
   ],
   "source": [
    "x_argmin = tf.constant([[2, 20, 30, 3, 6], \n",
    "                        [3, 11, 16, 1, 8],\n",
    "                        [14, 45, 23, 5, 27]])\n",
    "print(x_argmin.shape)\n",
    "print(tf.math.argmin(x_argmin, 1))"
   ]
  },
  {
   "attachments": {},
   "cell_type": "markdown",
   "metadata": {},
   "source": [
    "### Equal Method"
   ]
  },
  {
   "attachments": {},
   "cell_type": "markdown",
   "metadata": {},
   "source": [
    "* Returns the truth value of (x == y) element-wise.\n",
    "* [Document](https://www.tensorflow.org/api_docs/python/tf/math/equal?hl=en)"
   ]
  },
  {
   "cell_type": "code",
   "execution_count": null,
   "metadata": {},
   "outputs": [
    {
     "data": {
      "text/plain": [
       "<tf.Tensor: shape=(2,), dtype=bool, numpy=array([ True, False])>"
      ]
     },
     "metadata": {},
     "output_type": "display_data"
    }
   ],
   "source": [
    "x = tf.constant([2, 4])\n",
    "y = tf.constant(2)\n",
    "tf.math.equal(x, y)"
   ]
  },
  {
   "cell_type": "code",
   "execution_count": null,
   "metadata": {},
   "outputs": [
    {
     "data": {
      "text/plain": [
       "<tf.Tensor: shape=(2,), dtype=bool, numpy=array([ True,  True])>"
      ]
     },
     "metadata": {},
     "output_type": "display_data"
    }
   ],
   "source": [
    "x = tf.constant([2, 4])\n",
    "y = tf.constant([2, 4])\n",
    "tf.math.equal(x, y)"
   ]
  },
  {
   "attachments": {},
   "cell_type": "markdown",
   "metadata": {},
   "source": [
    "### Pow Method"
   ]
  },
  {
   "attachments": {},
   "cell_type": "markdown",
   "metadata": {},
   "source": [
    "* Computes the power of one value to another.\n",
    "* [Document](https://www.tensorflow.org/api_docs/python/tf/math/pow`)"
   ]
  },
  {
   "cell_type": "code",
   "execution_count": null,
   "metadata": {},
   "outputs": [
    {
     "data": {
      "text/plain": [
       "<tf.Tensor: shape=(2, 2), dtype=int32, numpy=\n",
       "array([[256,   1],\n",
       "       [  9,  27]])>"
      ]
     },
     "metadata": {},
     "output_type": "display_data"
    }
   ],
   "source": [
    "x = tf.constant([[2, 2], [3, 3]])\n",
    "y = tf.constant([[8, 0], [2, 3]])\n",
    "tf.pow(x, y)"
   ]
  },
  {
   "cell_type": "code",
   "execution_count": null,
   "metadata": {},
   "outputs": [
    {
     "data": {
      "text/plain": [
       "<tf.Tensor: shape=(), dtype=int32, numpy=8>"
      ]
     },
     "metadata": {},
     "output_type": "display_data"
    }
   ],
   "source": [
    "tf.pow(tf.constant(2), tf.constant(3))"
   ]
  },
  {
   "attachments": {},
   "cell_type": "markdown",
   "metadata": {},
   "source": [
    "### Reduce Sum Method"
   ]
  },
  {
   "attachments": {},
   "cell_type": "markdown",
   "metadata": {},
   "source": [
    "* Computes the sum of elements across dimensions of a tensor.\n",
    "* [Document](https://www.tensorflow.org/api_docs/python/tf/math/reduce_sum)"
   ]
  },
  {
   "cell_type": "code",
   "execution_count": null,
   "metadata": {},
   "outputs": [
    {
     "name": "stdout",
     "output_type": "stream",
     "text": [
      "tf.Tensor(35, shape=(), dtype=int32)\n"
     ]
    }
   ],
   "source": [
    "tensor_two_d = tf.constant([[1, 2, 0],\n",
    "                            [3, 5, -1,],\n",
    "                            [1, 5, 6],\n",
    "                            [2, 3, 8]])\n",
    "\n",
    "print(tf.math.reduce_sum(\n",
    "    input_tensor=tensor_two_d, axis=None, keepdims=False, name=None\n",
    "))"
   ]
  },
  {
   "cell_type": "code",
   "execution_count": null,
   "metadata": {},
   "outputs": [
    {
     "name": "stdout",
     "output_type": "stream",
     "text": [
      "tf.Tensor([ 7 15 13], shape=(3,), dtype=int32)\n"
     ]
    }
   ],
   "source": [
    "tensor_two_d = tf.constant([[1, 2, 0],\n",
    "                            [3, 5, -1,],\n",
    "                            [1, 5, 6],\n",
    "                            [2, 3, 8]])\n",
    "\n",
    "print(tf.math.reduce_sum(\n",
    "    input_tensor=tensor_two_d, axis=0, keepdims=False, name=None\n",
    "))"
   ]
  },
  {
   "attachments": {},
   "cell_type": "markdown",
   "metadata": {},
   "source": [
    "### Reduce Mean Method\n"
   ]
  },
  {
   "attachments": {},
   "cell_type": "markdown",
   "metadata": {},
   "source": [
    "* Computes the mean of elements across dimensions of a tensor.\n",
    "* [Document](https://www.tensorflow.org/api_docs/python/tf/math/reduce_mean?hl=en)"
   ]
  },
  {
   "cell_type": "code",
   "execution_count": null,
   "metadata": {},
   "outputs": [
    {
     "name": "stdout",
     "output_type": "stream",
     "text": [
      "tf.Tensor([1.75 3.75 3.25], shape=(3,), dtype=float16)\n"
     ]
    }
   ],
   "source": [
    "tensor_two_d = tf.constant([[1, 2, 0],\n",
    "                            [3, 5, -1,],\n",
    "                            [1, 5, 6],\n",
    "                            [2, 3, 8]], dtype=tf.float16)\n",
    "\n",
    "print(tf.math.reduce_mean(\n",
    "    input_tensor=tensor_two_d, axis=0, keepdims=False, name=None\n",
    "))"
   ]
  },
  {
   "cell_type": "code",
   "execution_count": null,
   "metadata": {},
   "outputs": [
    {
     "name": "stdout",
     "output_type": "stream",
     "text": [
      "tf.Tensor([[1.75 3.75 3.25]], shape=(1, 3), dtype=float16)\n"
     ]
    }
   ],
   "source": [
    "tensor_two_d = tf.constant([[1, 2, 0],\n",
    "                            [3, 5, -1,],\n",
    "                            [1, 5, 6],\n",
    "                            [2, 3, 8]], dtype=tf.float16)\n",
    "\n",
    "print(tf.math.reduce_mean(\n",
    "    input_tensor=tensor_two_d, axis=0, keepdims=True, name=None\n",
    "))"
   ]
  },
  {
   "attachments": {},
   "cell_type": "markdown",
   "metadata": {},
   "source": [
    "### Sigmoid Method"
   ]
  },
  {
   "attachments": {},
   "cell_type": "markdown",
   "metadata": {},
   "source": [
    "* Computes sigmoid of x element-wise.\n",
    "* If a positive number is large, then its sigmoid will approach to 1\n",
    "* If a negative number is large, its sigmoid will approach to 0\n",
    "* [Document](https://www.tensorflow.org/api_docs/python/tf/math/sigmoid?hl=en)"
   ]
  },
  {
   "attachments": {},
   "cell_type": "markdown",
   "metadata": {},
   "source": [
    "$$\n",
    "sigmoid(x) = \\frac{1}{1 + e^{-x}}\n",
    "$$"
   ]
  },
  {
   "cell_type": "code",
   "execution_count": null,
   "metadata": {},
   "outputs": [
    {
     "name": "stdout",
     "output_type": "stream",
     "text": [
      "tf.Tensor([0.5       0.7310586 1.        1.       ], shape=(4,), dtype=float32)\n"
     ]
    }
   ],
   "source": [
    "x = tf.constant([0.0, 1.0, 50.0, 100.0])\n",
    "print(tf.math.sigmoid(x))"
   ]
  },
  {
   "cell_type": "code",
   "execution_count": null,
   "metadata": {},
   "outputs": [
    {
     "name": "stdout",
     "output_type": "stream",
     "text": [
      "tf.Tensor([0.0000000e+00 1.9287499e-22 2.6894143e-01 5.0000000e-01], shape=(4,), dtype=float32)\n"
     ]
    }
   ],
   "source": [
    "x = tf.constant([-100.0, -50.0, -1.0, 0.0])\n",
    "print(tf.math.sigmoid(x))"
   ]
  },
  {
   "attachments": {},
   "cell_type": "markdown",
   "metadata": {},
   "source": [
    "### Top k Method"
   ]
  },
  {
   "attachments": {},
   "cell_type": "markdown",
   "metadata": {},
   "source": [
    "* Finds values and indices of the k largest entries for the last dimension.\n",
    "* [Document](https://www.tensorflow.org/api_docs/python/tf/math/top_k?hl=en)"
   ]
  },
  {
   "cell_type": "code",
   "execution_count": null,
   "metadata": {},
   "outputs": [
    {
     "data": {
      "text/plain": [
       "TopKV2(values=<tf.Tensor: shape=(4, 1), dtype=int32, numpy=\n",
       "array([[2],\n",
       "       [5],\n",
       "       [6],\n",
       "       [8]])>, indices=<tf.Tensor: shape=(4, 1), dtype=int32, numpy=\n",
       "array([[1],\n",
       "       [1],\n",
       "       [2],\n",
       "       [2]])>)"
      ]
     },
     "metadata": {},
     "output_type": "display_data"
    }
   ],
   "source": [
    "tensor_two_d = tf.constant([[1, 2, 0],\n",
    "                            [3, 5, -1,],\n",
    "                            [1, 5, 6],\n",
    "                            [2, 3, 8]])\n",
    "\n",
    "tf.math.top_k(tensor_two_d, k = 1)"
   ]
  },
  {
   "cell_type": "code",
   "execution_count": null,
   "metadata": {},
   "outputs": [
    {
     "data": {
      "text/plain": [
       "TopKV2(values=<tf.Tensor: shape=(4, 2), dtype=int32, numpy=\n",
       "array([[2, 1],\n",
       "       [5, 3],\n",
       "       [6, 5],\n",
       "       [8, 3]])>, indices=<tf.Tensor: shape=(4, 2), dtype=int32, numpy=\n",
       "array([[1, 0],\n",
       "       [1, 0],\n",
       "       [2, 1],\n",
       "       [2, 1]])>)"
      ]
     },
     "metadata": {},
     "output_type": "display_data"
    }
   ],
   "source": [
    "tf.math.top_k(tensor_two_d, k = 2)"
   ]
  }
 ],
 "metadata": {
  "language_info": {
   "name": "python"
  },
  "orig_nbformat": 4
 },
 "nbformat": 4,
 "nbformat_minor": 2
}

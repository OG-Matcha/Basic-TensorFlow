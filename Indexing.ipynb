{
 "cells": [
  {
   "attachments": {},
   "cell_type": "markdown",
   "metadata": {},
   "source": [
    "## Indexing"
   ]
  },
  {
   "attachments": {},
   "cell_type": "markdown",
   "metadata": {},
   "source": [
    "**[minIndex : maxIndex+1 : step]**"
   ]
  },
  {
   "cell_type": "code",
   "execution_count": null,
   "metadata": {},
   "outputs": [
    {
     "name": "stdout",
     "output_type": "stream",
     "text": [
      "tf.Tensor([ 3  6  2  4  6 66  7], shape=(7,), dtype=int32)\n",
      "tf.Tensor(3, shape=(), dtype=int32)\n",
      "tf.Tensor([3 6 2 4], shape=(4,), dtype=int32)\n",
      "tf.Tensor([6 2 4 6], shape=(4,), dtype=int32)\n",
      "tf.Tensor([ 6  4 66], shape=(3,), dtype=int32)\n",
      "tf.Tensor([ 4  6 66], shape=(3,), dtype=int32)\n"
     ]
    }
   ],
   "source": [
    "tensor_indexed = tf.constant([3, 6, 2, 4, 6, 66, 7])\n",
    "print(tensor_indexed)\n",
    "print(tensor_indexed[0])\n",
    "print(tensor_indexed[0:4])\n",
    "print(tensor_indexed[1:5])\n",
    "print(tensor_indexed[1:6:2])\n",
    "print(tensor_indexed[3:-1])"
   ]
  },
  {
   "cell_type": "code",
   "execution_count": null,
   "metadata": {},
   "outputs": [
    {
     "name": "stdout",
     "output_type": "stream",
     "text": [
      "tf.Tensor(\n",
      "[[ 1  2  0]\n",
      " [ 3  5 -1]\n",
      " [ 1  5  6]], shape=(3, 3), dtype=int32)\n",
      "tf.Tensor([1 5 6], shape=(3,), dtype=int32)\n",
      "tf.Tensor(1, shape=(), dtype=int32)\n",
      "tf.Tensor([5 6], shape=(2,), dtype=int32)\n",
      "tf.Tensor([1 3 1 2], shape=(4,), dtype=int32)\n",
      "tf.Tensor([2 5 5 3], shape=(4,), dtype=int32)\n"
     ]
    }
   ],
   "source": [
    "tensor_two_d = tf.constant([[1, 2, 0],\n",
    "                            [3, 5, -1,],\n",
    "                            [1, 5, 6],\n",
    "                            [2, 3, 8]])\n",
    "print(tensor_two_d[:3])\n",
    "print(tensor_two_d[2])\n",
    "print(tensor_two_d[2, 0])\n",
    "print(tensor_two_d[2, 1:])\n",
    "print(tensor_two_d[:, 0])\n",
    "print(tensor_two_d[..., 1])"
   ]
  },
  {
   "cell_type": "code",
   "execution_count": null,
   "metadata": {},
   "outputs": [
    {
     "name": "stdout",
     "output_type": "stream",
     "text": [
      "tf.Tensor(\n",
      "[[ 1  2  0]\n",
      " [ 3  5 -1]], shape=(2, 3), dtype=int32)\n",
      "tf.Tensor([1 2 0], shape=(3,), dtype=int32)\n",
      "tf.Tensor([ 0 -1], shape=(2,), dtype=int32)\n",
      "tf.Tensor(\n",
      "[[ 0 -1]\n",
      " [ 0  2]], shape=(2, 2), dtype=int32)\n"
     ]
    }
   ],
   "source": [
    "tensor_three_d = tf.constant(\n",
    "    [[[1, 2, 0],\n",
    "    [3, 5, -1]],\n",
    "\n",
    "    [[10, 2, 0],\n",
    "    [1, 0, 2]],\n",
    "\n",
    "    [[5, 8, 0],\n",
    "    [2, 7, 0]],\n",
    "\n",
    "    [[2, 1, 9],\n",
    "    [4, -3, 32]]]\n",
    ")\n",
    "print(tensor_three_d[0, : , :])\n",
    "print(tensor_three_d[0, 0 , :])\n",
    "print(tensor_three_d[0, : , -1])\n",
    "print(tensor_three_d[0:2, ... , 2])"
   ]
  }
 ],
 "metadata": {
  "language_info": {
   "name": "python"
  },
  "orig_nbformat": 4
 },
 "nbformat": 4,
 "nbformat_minor": 2
}

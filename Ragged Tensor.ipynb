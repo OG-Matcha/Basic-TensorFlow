{
 "cells": [
  {
   "attachments": {},
   "cell_type": "markdown",
   "metadata": {},
   "source": [
    "## Ragged Tensors"
   ]
  },
  {
   "attachments": {},
   "cell_type": "markdown",
   "metadata": {},
   "source": [
    "### Definition"
   ]
  },
  {
   "attachments": {},
   "cell_type": "markdown",
   "metadata": {},
   "source": [
    "* Nested variable-length lists\n",
    "* Store and process data with non-uniform shapes\n",
    "* [Document](https://www.tensorflow.org/guide/ragged_tensor)"
   ]
  },
  {
   "cell_type": "code",
   "execution_count": 11,
   "metadata": {},
   "outputs": [
    {
     "name": "stdout",
     "output_type": "stream",
     "text": [
      "tf.Tensor(\n",
      "[[ 1  2  0]\n",
      " [ 3  5 -1]\n",
      " [ 1  5  6]\n",
      " [ 2  3  8]], shape=(4, 3), dtype=int32)\n"
     ]
    }
   ],
   "source": [
    "tensor_two_d = tf.constant([[1, 2, 0],\n",
    "                            [3, 5, -1],\n",
    "                            [1, 5, 6],\n",
    "                            [2, 3, 8]])\n",
    "\n",
    "print(tensor_two_d)"
   ]
  },
  {
   "cell_type": "code",
   "execution_count": 9,
   "metadata": {},
   "outputs": [
    {
     "name": "stdout",
     "output_type": "stream",
     "text": [
      "[[1, 2, 0], [3], [1, 5, 6, 5, 6], [2, 3]]\n",
      "(4, None)\n",
      "<tf.RaggedTensor [[1, 2, 0], [3], [1, 5, 6, 5, 6], [2, 3]]>\n"
     ]
    }
   ],
   "source": [
    "tensor_two_d = [[1, 2, 0],\n",
    "                [3],\n",
    "                [1, 5, 6, 5, 6],\n",
    "                [2, 3]]\n",
    "\n",
    "print(tensor_two_d)\n",
    "\n",
    "tensor_ragged = tf.ragged.constant(tensor_two_d)\n",
    "print(tensor_ragged.shape)\n",
    "print(tensor_ragged)"
   ]
  },
  {
   "attachments": {},
   "cell_type": "markdown",
   "metadata": {},
   "source": [
    "### Boolean Mask Method"
   ]
  },
  {
   "attachments": {},
   "cell_type": "markdown",
   "metadata": {},
   "source": [
    "* Applies a boolean mask to data without flattening the mask dimensions.\n",
    "* [Document](https://www.tensorflow.org/api_docs/python/tf/ragged/boolean_mask?hl=en)"
   ]
  },
  {
   "cell_type": "code",
   "execution_count": 17,
   "metadata": {},
   "outputs": [
    {
     "data": {
      "text/plain": [
       "<tf.RaggedTensor [[3], [], [5, 6]]>"
      ]
     },
     "execution_count": 17,
     "metadata": {},
     "output_type": "execute_result"
    }
   ],
   "source": [
    "data = tf.ragged.constant([[1, 2, 3], [4], [5, 6]])\n",
    "mask = tf.ragged.constant([[False, False, True], [False], [True, True]])\n",
    "\n",
    "tf.ragged.boolean_mask(data, mask)"
   ]
  },
  {
   "cell_type": "code",
   "execution_count": 16,
   "metadata": {},
   "outputs": [
    {
     "data": {
      "text/plain": [
       "<tf.RaggedTensor [[1, 2, 3], [5, 6]]>"
      ]
     },
     "execution_count": 16,
     "metadata": {},
     "output_type": "execute_result"
    }
   ],
   "source": [
    "data = tf.ragged.constant([[1, 2, 3], [4], [5, 6]])\n",
    "mask = tf.ragged.constant([True, False, True])\n",
    "\n",
    "tf.ragged.boolean_mask(data, mask)"
   ]
  },
  {
   "attachments": {},
   "cell_type": "markdown",
   "metadata": {},
   "source": [
    "### From Row Lengths Method"
   ]
  },
  {
   "attachments": {},
   "cell_type": "markdown",
   "metadata": {},
   "source": [
    "* Creates a RaggedTensor with rows partitioned by row_lengths.\n",
    "* [Document](https://www.tensorflow.org/api_docs/python/tf/RaggedTensor?hl=en#from_row_lengths)"
   ]
  },
  {
   "cell_type": "code",
   "execution_count": 15,
   "metadata": {},
   "outputs": [
    {
     "name": "stdout",
     "output_type": "stream",
     "text": [
      "<tf.RaggedTensor [[3, 1, 4, 1], [], [5, 9, 2], [6], []]>\n"
     ]
    }
   ],
   "source": [
    "print(tf.RaggedTensor.from_row_lengths(\n",
    "    values=[3, 1, 4, 1, 5, 9, 2, 6],\n",
    "    row_lengths=[4, 0, 3, 1, 0]))"
   ]
  },
  {
   "cell_type": "code",
   "execution_count": 18,
   "metadata": {},
   "outputs": [
    {
     "name": "stdout",
     "output_type": "stream",
     "text": [
      "<tf.RaggedTensor [[3, 1, 4, 1], [], [5, 9, 2], [6]]>\n"
     ]
    }
   ],
   "source": [
    "print(tf.RaggedTensor.from_row_lengths(\n",
    "    values=[3, 1, 4, 1, 5, 9, 2, 6],\n",
    "    row_lengths=[4, 0, 3, 1]))"
   ]
  },
  {
   "attachments": {},
   "cell_type": "markdown",
   "metadata": {},
   "source": [
    "### From Row Limits Method"
   ]
  },
  {
   "attachments": {},
   "cell_type": "markdown",
   "metadata": {},
   "source": [
    "* Creates a RaggedTensor with rows partitioned by row_limits.\n",
    "* [Document](https://www.tensorflow.org/api_docs/python/tf/RaggedTensor?hl=en#from_row_limits)"
   ]
  },
  {
   "cell_type": "code",
   "execution_count": 6,
   "metadata": {},
   "outputs": [
    {
     "name": "stdout",
     "output_type": "stream",
     "text": [
      "<tf.RaggedTensor [[3, 1, 4, 1], [], [5, 9, 2], [6], []]>\n"
     ]
    }
   ],
   "source": [
    "print(tf.RaggedTensor.from_row_limits(\n",
    "    values=[3, 1, 4, 1, 5, 9, 2, 6],\n",
    "    row_limits=[4, 4, 7, 8, 8]))"
   ]
  },
  {
   "attachments": {},
   "cell_type": "markdown",
   "metadata": {},
   "source": [
    "### From Row Splits Method"
   ]
  },
  {
   "attachments": {},
   "cell_type": "markdown",
   "metadata": {},
   "source": [
    "* Creates a RaggedTensor with rows partitioned by row_splits.\n",
    "* [Document](https://www.tensorflow.org/api_docs/python/tf/RaggedTensor?hl=en#from_row_splits)"
   ]
  },
  {
   "cell_type": "code",
   "execution_count": 4,
   "metadata": {},
   "outputs": [
    {
     "name": "stdout",
     "output_type": "stream",
     "text": [
      "<tf.RaggedTensor [[3, 1, 4, 1], [], [5, 9, 2], [6], []]>\n"
     ]
    }
   ],
   "source": [
    "print(tf.RaggedTensor.from_row_splits(\n",
    "    values=[3, 1, 4, 1, 5, 9, 2, 6],\n",
    "    row_splits=[0, 4, 4, 7, 8, 8]))"
   ]
  },
  {
   "attachments": {},
   "cell_type": "markdown",
   "metadata": {},
   "source": [
    "### From Tensor Method"
   ]
  },
  {
   "attachments": {},
   "cell_type": "markdown",
   "metadata": {},
   "source": [
    "* Converts a tf.Tensor into a RaggedTensor.\n",
    "* [Document](https://www.tensorflow.org/api_docs/python/tf/RaggedTensor?hl=en#from_tensor)"
   ]
  },
  {
   "cell_type": "code",
   "execution_count": 7,
   "metadata": {},
   "outputs": [
    {
     "name": "stdout",
     "output_type": "stream",
     "text": [
      "<tf.RaggedTensor [[5, 7, 0],\n",
      " [0, 3, 0],\n",
      " [6, 0, 0]]>\n",
      "<tf.RaggedTensor [[5], [], [6, 0, 0]]>\n"
     ]
    }
   ],
   "source": [
    "dt = tf.constant([[5, 7, 0], [0, 3, 0], [6, 0, 0]])\n",
    "print(tf.RaggedTensor.from_tensor(dt))\n",
    "\n",
    "print(tf.RaggedTensor.from_tensor(dt, lengths=[1, 0, 3]))"
   ]
  }
 ],
 "metadata": {
  "kernelspec": {
   "display_name": "Python 3",
   "language": "python",
   "name": "python3"
  },
  "language_info": {
   "codemirror_mode": {
    "name": "ipython",
    "version": 3
   },
   "file_extension": ".py",
   "mimetype": "text/x-python",
   "name": "python",
   "nbconvert_exporter": "python",
   "pygments_lexer": "ipython3",
   "version": "3.10.9"
  },
  "orig_nbformat": 4
 },
 "nbformat": 4,
 "nbformat_minor": 2
}

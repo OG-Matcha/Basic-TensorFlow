{
 "cells": [
  {
   "attachments": {},
   "cell_type": "markdown",
   "metadata": {},
   "source": [
    "## Initialization and Casting"
   ]
  },
  {
   "attachments": {},
   "cell_type": "markdown",
   "metadata": {},
   "source": [
    "### Import TensorFlow"
   ]
  },
  {
   "cell_type": "code",
   "execution_count": null,
   "metadata": {},
   "outputs": [],
   "source": [
    "import tensorflow as tf"
   ]
  },
  {
   "attachments": {},
   "cell_type": "markdown",
   "metadata": {},
   "source": [
    "### Different Dimension Tensors"
   ]
  },
  {
   "cell_type": "code",
   "execution_count": null,
   "metadata": {},
   "outputs": [
    {
     "name": "stdout",
     "output_type": "stream",
     "text": [
      "tf.Tensor(4, shape=(), dtype=int32)\n"
     ]
    }
   ],
   "source": [
    "tensor_zero_d = tf.constant(4)\n",
    "print(tensor_zero_d)"
   ]
  },
  {
   "cell_type": "code",
   "execution_count": null,
   "metadata": {},
   "outputs": [
    {
     "name": "stdout",
     "output_type": "stream",
     "text": [
      "tf.Tensor([ 2  0 -3  8 90], shape=(5,), dtype=int32)\n"
     ]
    }
   ],
   "source": [
    "tensor_one_d = tf.constant([2, 0, -3, 8, 90])\n",
    "print(tensor_one_d)"
   ]
  },
  {
   "cell_type": "code",
   "execution_count": null,
   "metadata": {},
   "outputs": [
    {
     "name": "stdout",
     "output_type": "stream",
     "text": [
      "tf.Tensor(\n",
      "[[ 1  2  0]\n",
      " [ 3  5 -1]\n",
      " [ 1  5  6]\n",
      " [ 2  3  8]], shape=(4, 3), dtype=int32)\n"
     ]
    }
   ],
   "source": [
    "tensor_two_d = tf.constant(\n",
    "    [[1, 2, 0], \n",
    "    [3, 5, -1], \n",
    "    [1, 5, 6], \n",
    "    [2, 3, 8]]\n",
    ")\n",
    "print(tensor_two_d)"
   ]
  },
  {
   "cell_type": "code",
   "execution_count": null,
   "metadata": {},
   "outputs": [
    {
     "name": "stdout",
     "output_type": "stream",
     "text": [
      "tf.Tensor(\n",
      "[[[ 1  2  0]\n",
      "  [ 3  5 -1]]\n",
      "\n",
      " [[10  2  0]\n",
      "  [ 1  0  2]]\n",
      "\n",
      " [[ 5  8  0]\n",
      "  [ 2  7  0]]\n",
      "\n",
      " [[ 2  1  9]\n",
      "  [ 4 -3 32]]], shape=(4, 2, 3), dtype=int32)\n"
     ]
    }
   ],
   "source": [
    "tensor_three_d = tf.constant(\n",
    "    [[[1, 2, 0],\n",
    "    [3, 5, -1]],\n",
    "\n",
    "    [[10, 2, 0],\n",
    "    [1, 0, 2]],\n",
    "\n",
    "    [[5, 8, 0],\n",
    "    [2, 7, 0]],\n",
    "\n",
    "    [[2, 1, 9],\n",
    "    [4, -3, 32]]]\n",
    ")\n",
    "print(tensor_three_d)"
   ]
  },
  {
   "attachments": {},
   "cell_type": "markdown",
   "metadata": {},
   "source": [
    "### Get Tensor Shape"
   ]
  },
  {
   "cell_type": "code",
   "execution_count": null,
   "metadata": {},
   "outputs": [
    {
     "name": "stdout",
     "output_type": "stream",
     "text": [
      "(5,)\n"
     ]
    }
   ],
   "source": [
    "print(tensor_one_d.shape)"
   ]
  },
  {
   "attachments": {},
   "cell_type": "markdown",
   "metadata": {},
   "source": [
    "### Get Tensor Dimension"
   ]
  },
  {
   "cell_type": "code",
   "execution_count": null,
   "metadata": {},
   "outputs": [
    {
     "name": "stdout",
     "output_type": "stream",
     "text": [
      "3\n"
     ]
    }
   ],
   "source": [
    "print(tensor_three_d.ndim)"
   ]
  },
  {
   "attachments": {},
   "cell_type": "markdown",
   "metadata": {},
   "source": [
    "### Different Data Type"
   ]
  },
  {
   "attachments": {},
   "cell_type": "markdown",
   "metadata": {},
   "source": [
    "* Control the memories used to store data\n",
    "* [Document](https://www.tensorflow.org/api_docs/python/tf/dtypes)"
   ]
  },
  {
   "cell_type": "code",
   "execution_count": null,
   "metadata": {},
   "outputs": [
    {
     "name": "stdout",
     "output_type": "stream",
     "text": [
      "tf.Tensor([ 2.  0. -3.  8. 90.], shape=(5,), dtype=float16)\n"
     ]
    }
   ],
   "source": [
    "tensor_one_d = tf.constant([2, 0, -3, 8, 90], dtype=tf.float16)\n",
    "print(tensor_one_d)"
   ]
  },
  {
   "attachments": {},
   "cell_type": "markdown",
   "metadata": {},
   "source": [
    "#### Can't Transfer Int Type to Float Type Directly"
   ]
  },
  {
   "cell_type": "code",
   "execution_count": null,
   "metadata": {},
   "outputs": [
    {
     "ename": "TypeError",
     "evalue": "Cannot convert [2, 0.0, -3, 8, 90] to EagerTensor of dtype int16",
     "output_type": "error",
     "traceback": [
      "\u001b[1;31m---------------------------------------------------------------------------\u001b[0m\n",
      "\u001b[1;31mTypeError\u001b[0m                                 Traceback (most recent call last)\n",
      "Cell \u001b[1;32mIn[10], line 1\u001b[0m\n",
      "\u001b[1;32m----> 1\u001b[0m tensor_one_d \u001b[39m=\u001b[39m tf\u001b[39m.\u001b[39;49mconstant([\u001b[39m2\u001b[39;49m, \u001b[39m0.\u001b[39;49m, \u001b[39m-\u001b[39;49m\u001b[39m3\u001b[39;49m, \u001b[39m8\u001b[39;49m, \u001b[39m90\u001b[39;49m], dtype\u001b[39m=\u001b[39;49mtf\u001b[39m.\u001b[39;49mint16)\n",
      "\u001b[0;32m      2\u001b[0m \u001b[39mprint\u001b[39m(tensor_one_d)\n",
      "\n",
      "File \u001b[1;32mc:\\Users\\JasonHuang\\AppData\\Local\\Programs\\Python\\Python310\\lib\\site-packages\\tensorflow\\python\\framework\\constant_op.py:267\u001b[0m, in \u001b[0;36mconstant\u001b[1;34m(value, dtype, shape, name)\u001b[0m\n",
      "\u001b[0;32m    170\u001b[0m \u001b[39m@tf_export\u001b[39m(\u001b[39m\"\u001b[39m\u001b[39mconstant\u001b[39m\u001b[39m\"\u001b[39m, v1\u001b[39m=\u001b[39m[])\n",
      "\u001b[0;32m    171\u001b[0m \u001b[39mdef\u001b[39;00m \u001b[39mconstant\u001b[39m(value, dtype\u001b[39m=\u001b[39m\u001b[39mNone\u001b[39;00m, shape\u001b[39m=\u001b[39m\u001b[39mNone\u001b[39;00m, name\u001b[39m=\u001b[39m\u001b[39m\"\u001b[39m\u001b[39mConst\u001b[39m\u001b[39m\"\u001b[39m):\n",
      "\u001b[0;32m    172\u001b[0m   \u001b[39m\"\"\"Creates a constant tensor from a tensor-like object.\u001b[39;00m\n",
      "\u001b[0;32m    173\u001b[0m \n",
      "\u001b[0;32m    174\u001b[0m \u001b[39m  Note: All eager `tf.Tensor` values are immutable (in contrast to\u001b[39;00m\n",
      "\u001b[1;32m   (...)\u001b[0m\n",
      "\u001b[0;32m    265\u001b[0m \u001b[39m    ValueError: if called on a symbolic tensor.\u001b[39;00m\n",
      "\u001b[0;32m    266\u001b[0m \u001b[39m  \"\"\"\u001b[39;00m\n",
      "\u001b[1;32m--> 267\u001b[0m   \u001b[39mreturn\u001b[39;00m _constant_impl(value, dtype, shape, name, verify_shape\u001b[39m=\u001b[39;49m\u001b[39mFalse\u001b[39;49;00m,\n",
      "\u001b[0;32m    268\u001b[0m                         allow_broadcast\u001b[39m=\u001b[39;49m\u001b[39mTrue\u001b[39;49;00m)\n",
      "\n",
      "File \u001b[1;32mc:\\Users\\JasonHuang\\AppData\\Local\\Programs\\Python\\Python310\\lib\\site-packages\\tensorflow\\python\\framework\\constant_op.py:279\u001b[0m, in \u001b[0;36m_constant_impl\u001b[1;34m(value, dtype, shape, name, verify_shape, allow_broadcast)\u001b[0m\n",
      "\u001b[0;32m    277\u001b[0m     \u001b[39mwith\u001b[39;00m trace\u001b[39m.\u001b[39mTrace(\u001b[39m\"\u001b[39m\u001b[39mtf.constant\u001b[39m\u001b[39m\"\u001b[39m):\n",
      "\u001b[0;32m    278\u001b[0m       \u001b[39mreturn\u001b[39;00m _constant_eager_impl(ctx, value, dtype, shape, verify_shape)\n",
      "\u001b[1;32m--> 279\u001b[0m   \u001b[39mreturn\u001b[39;00m _constant_eager_impl(ctx, value, dtype, shape, verify_shape)\n",
      "\u001b[0;32m    281\u001b[0m g \u001b[39m=\u001b[39m ops\u001b[39m.\u001b[39mget_default_graph()\n",
      "\u001b[0;32m    282\u001b[0m tensor_value \u001b[39m=\u001b[39m attr_value_pb2\u001b[39m.\u001b[39mAttrValue()\n",
      "\n",
      "File \u001b[1;32mc:\\Users\\JasonHuang\\AppData\\Local\\Programs\\Python\\Python310\\lib\\site-packages\\tensorflow\\python\\framework\\constant_op.py:304\u001b[0m, in \u001b[0;36m_constant_eager_impl\u001b[1;34m(ctx, value, dtype, shape, verify_shape)\u001b[0m\n",
      "\u001b[0;32m    302\u001b[0m \u001b[39mdef\u001b[39;00m \u001b[39m_constant_eager_impl\u001b[39m(ctx, value, dtype, shape, verify_shape):\n",
      "\u001b[0;32m    303\u001b[0m   \u001b[39m\"\"\"Creates a constant on the current device.\"\"\"\u001b[39;00m\n",
      "\u001b[1;32m--> 304\u001b[0m   t \u001b[39m=\u001b[39m convert_to_eager_tensor(value, ctx, dtype)\n",
      "\u001b[0;32m    305\u001b[0m   \u001b[39mif\u001b[39;00m shape \u001b[39mis\u001b[39;00m \u001b[39mNone\u001b[39;00m:\n",
      "\u001b[0;32m    306\u001b[0m     \u001b[39mreturn\u001b[39;00m t\n",
      "\n",
      "File \u001b[1;32mc:\\Users\\JasonHuang\\AppData\\Local\\Programs\\Python\\Python310\\lib\\site-packages\\tensorflow\\python\\framework\\constant_op.py:102\u001b[0m, in \u001b[0;36mconvert_to_eager_tensor\u001b[1;34m(value, ctx, dtype)\u001b[0m\n",
      "\u001b[0;32m    100\u001b[0m     dtype \u001b[39m=\u001b[39m dtypes\u001b[39m.\u001b[39mas_dtype(dtype)\u001b[39m.\u001b[39mas_datatype_enum\n",
      "\u001b[0;32m    101\u001b[0m ctx\u001b[39m.\u001b[39mensure_initialized()\n",
      "\u001b[1;32m--> 102\u001b[0m \u001b[39mreturn\u001b[39;00m ops\u001b[39m.\u001b[39;49mEagerTensor(value, ctx\u001b[39m.\u001b[39;49mdevice_name, dtype)\n",
      "\n",
      "\u001b[1;31mTypeError\u001b[0m: Cannot convert [2, 0.0, -3, 8, 90] to EagerTensor of dtype int16"
     ]
    }
   ],
   "source": [
    "tensor_one_d = tf.constant([2, 0., -3, 8, 90], dtype=tf.int16)\n",
    "print(tensor_one_d)"
   ]
  },
  {
   "attachments": {},
   "cell_type": "markdown",
   "metadata": {},
   "source": [
    "#### Use Cast Method to Transfer the Data Type"
   ]
  },
  {
   "cell_type": "code",
   "execution_count": null,
   "metadata": {},
   "outputs": [
    {
     "name": "stdout",
     "output_type": "stream",
     "text": [
      "tf.Tensor([ 2.  0. -3.  8. 90.], shape=(5,), dtype=float16)\n",
      "tf.Tensor([ 2  0 -3  8 90], shape=(5,), dtype=int16)\n"
     ]
    }
   ],
   "source": [
    "tensor_one_d = tf.constant([2, 0., -3, 8, 90], dtype=tf.float16)\n",
    "\n",
    "casted_tensor_one_d = tf.cast(tensor_one_d, dtype=tf.int16)\n",
    "print(tensor_one_d)\n",
    "print(casted_tensor_one_d)"
   ]
  },
  {
   "cell_type": "code",
   "execution_count": null,
   "metadata": {},
   "outputs": [
    {
     "name": "stdout",
     "output_type": "stream",
     "text": [
      "tf.Tensor([ 2.  0. -3.  8. 90.], shape=(5,), dtype=float16)\n",
      "tf.Tensor([ True False  True  True  True], shape=(5,), dtype=bool)\n"
     ]
    }
   ],
   "source": [
    "tensor_one_d = tf.constant([2, 0., -3, 8, 90], dtype=tf.float16)\n",
    "\n",
    "casted_tensor_one_d = tf.cast(tensor_one_d, dtype=tf.bool)\n",
    "print(tensor_one_d)\n",
    "print(casted_tensor_one_d)"
   ]
  },
  {
   "attachments": {},
   "cell_type": "markdown",
   "metadata": {},
   "source": [
    "#### Tensor Bool\n"
   ]
  },
  {
   "cell_type": "code",
   "execution_count": null,
   "metadata": {},
   "outputs": [
    {
     "name": "stdout",
     "output_type": "stream",
     "text": [
      "tf.Tensor([ True False  True], shape=(3,), dtype=bool)\n"
     ]
    }
   ],
   "source": [
    "tensor_bool = tf.constant([True, False, True])\n",
    "print(tensor_bool)"
   ]
  },
  {
   "attachments": {},
   "cell_type": "markdown",
   "metadata": {},
   "source": [
    "#### Tensor String"
   ]
  },
  {
   "cell_type": "code",
   "execution_count": null,
   "metadata": {},
   "outputs": [
    {
     "name": "stdout",
     "output_type": "stream",
     "text": [
      "tf.Tensor([b'Hello World' b'Hi'], shape=(2,), dtype=string)\n"
     ]
    }
   ],
   "source": [
    "tensor_string = tf.constant([\"Hello World\", \"Hi\"])\n",
    "print(tensor_string)"
   ]
  },
  {
   "attachments": {},
   "cell_type": "markdown",
   "metadata": {},
   "source": [
    "### Convert Numpy Array into Tensor"
   ]
  },
  {
   "cell_type": "code",
   "execution_count": null,
   "metadata": {},
   "outputs": [],
   "source": [
    "import numpy as np"
   ]
  },
  {
   "cell_type": "code",
   "execution_count": null,
   "metadata": {},
   "outputs": [
    {
     "name": "stdout",
     "output_type": "stream",
     "text": [
      "[1 2 4]\n"
     ]
    }
   ],
   "source": [
    "np_array = np.array([1, 2, 4])\n",
    "print(np_array)"
   ]
  },
  {
   "cell_type": "code",
   "execution_count": null,
   "metadata": {},
   "outputs": [
    {
     "name": "stdout",
     "output_type": "stream",
     "text": [
      "tf.Tensor([1 2 4], shape=(3,), dtype=int32)\n"
     ]
    }
   ],
   "source": [
    "converted_tensor = tf.convert_to_tensor(np_array)\n",
    "print(converted_tensor)"
   ]
  },
  {
   "attachments": {},
   "cell_type": "markdown",
   "metadata": {},
   "source": [
    "### Create Eye Tensor"
   ]
  },
  {
   "attachments": {},
   "cell_type": "markdown",
   "metadata": {},
   "source": [
    "* Construct an identity matrix, or a batch of matrices.\n",
    "* [Document](https://www.tensorflow.org/api_docs/python/tf/eye)"
   ]
  },
  {
   "attachments": {},
   "cell_type": "markdown",
   "metadata": {},
   "source": [
    "#### Specify Rows"
   ]
  },
  {
   "cell_type": "code",
   "execution_count": null,
   "metadata": {},
   "outputs": [
    {
     "name": "stdout",
     "output_type": "stream",
     "text": [
      "tf.Tensor(\n",
      "[[1. 0. 0.]\n",
      " [0. 1. 0.]\n",
      " [0. 0. 1.]], shape=(3, 3), dtype=float32)\n"
     ]
    }
   ],
   "source": [
    "eye_tensor = tf.eye(\n",
    "    num_rows = 3,\n",
    "    num_columns=None,\n",
    "    batch_shape=None,\n",
    "    dtype=tf.dtypes.float32,\n",
    "    name=None\n",
    ")\n",
    "print(eye_tensor)"
   ]
  },
  {
   "attachments": {},
   "cell_type": "markdown",
   "metadata": {},
   "source": [
    "#### Times a Constant"
   ]
  },
  {
   "cell_type": "code",
   "execution_count": null,
   "metadata": {},
   "outputs": [
    {
     "name": "stdout",
     "output_type": "stream",
     "text": [
      "tf.Tensor(\n",
      "[[3. 0. 0.]\n",
      " [0. 3. 0.]\n",
      " [0. 0. 3.]], shape=(3, 3), dtype=float32)\n"
     ]
    }
   ],
   "source": [
    "eye_tensor = tf.eye(\n",
    "    num_rows = 3,\n",
    "    num_columns=None,\n",
    "    batch_shape=None,\n",
    "    dtype=tf.dtypes.float32,\n",
    "    name=None\n",
    ")\n",
    "print(3 * eye_tensor)"
   ]
  },
  {
   "attachments": {},
   "cell_type": "markdown",
   "metadata": {},
   "source": [
    "#### Change Data Type"
   ]
  },
  {
   "cell_type": "code",
   "execution_count": null,
   "metadata": {},
   "outputs": [
    {
     "name": "stdout",
     "output_type": "stream",
     "text": [
      "tf.Tensor(\n",
      "[[ True False False]\n",
      " [False  True False]\n",
      " [False False  True]], shape=(3, 3), dtype=bool)\n"
     ]
    }
   ],
   "source": [
    "eye_tensor = tf.eye(\n",
    "    num_rows = 3,\n",
    "    num_columns=None,\n",
    "    batch_shape=None,\n",
    "    dtype=tf.dtypes.bool,\n",
    "    name=None\n",
    ")\n",
    "print(eye_tensor)"
   ]
  },
  {
   "attachments": {},
   "cell_type": "markdown",
   "metadata": {},
   "source": [
    "#### Different Rows & Columns"
   ]
  },
  {
   "cell_type": "code",
   "execution_count": null,
   "metadata": {},
   "outputs": [
    {
     "name": "stdout",
     "output_type": "stream",
     "text": [
      "tf.Tensor(\n",
      "[[1. 0. 0.]\n",
      " [0. 1. 0.]\n",
      " [0. 0. 1.]\n",
      " [0. 0. 0.]\n",
      " [0. 0. 0.]], shape=(5, 3), dtype=float32)\n"
     ]
    }
   ],
   "source": [
    "eye_tensor = tf.eye(\n",
    "    num_rows = 5,\n",
    "    num_columns=3,\n",
    "    batch_shape=None,\n",
    "    dtype=tf.dtypes.float32,\n",
    "    name=None\n",
    ")\n",
    "print(eye_tensor)"
   ]
  },
  {
   "attachments": {},
   "cell_type": "markdown",
   "metadata": {},
   "source": [
    "#### Set Batch Shape"
   ]
  },
  {
   "cell_type": "code",
   "execution_count": null,
   "metadata": {},
   "outputs": [
    {
     "name": "stdout",
     "output_type": "stream",
     "text": [
      "tf.Tensor(\n",
      "[[[1. 0. 0. 0. 0.]\n",
      "  [0. 1. 0. 0. 0.]\n",
      "  [0. 0. 1. 0. 0.]\n",
      "  [0. 0. 0. 1. 0.]\n",
      "  [0. 0. 0. 0. 1.]]\n",
      "\n",
      " [[1. 0. 0. 0. 0.]\n",
      "  [0. 1. 0. 0. 0.]\n",
      "  [0. 0. 1. 0. 0.]\n",
      "  [0. 0. 0. 1. 0.]\n",
      "  [0. 0. 0. 0. 1.]]], shape=(2, 5, 5), dtype=float32)\n"
     ]
    }
   ],
   "source": [
    "eye_tensor = tf.eye(\n",
    "    num_rows = 5,\n",
    "    num_columns=None,\n",
    "    batch_shape=[2,],\n",
    "    dtype=tf.dtypes.float32,\n",
    "    name=None\n",
    ")\n",
    "print(eye_tensor)"
   ]
  },
  {
   "cell_type": "code",
   "execution_count": null,
   "metadata": {},
   "outputs": [
    {
     "name": "stdout",
     "output_type": "stream",
     "text": [
      "tf.Tensor(\n",
      "[[[[1. 0. 0. 0. 0.]\n",
      "   [0. 1. 0. 0. 0.]\n",
      "   [0. 0. 1. 0. 0.]\n",
      "   [0. 0. 0. 1. 0.]\n",
      "   [0. 0. 0. 0. 1.]]\n",
      "\n",
      "  [[1. 0. 0. 0. 0.]\n",
      "   [0. 1. 0. 0. 0.]\n",
      "   [0. 0. 1. 0. 0.]\n",
      "   [0. 0. 0. 1. 0.]\n",
      "   [0. 0. 0. 0. 1.]]\n",
      "\n",
      "  [[1. 0. 0. 0. 0.]\n",
      "   [0. 1. 0. 0. 0.]\n",
      "   [0. 0. 1. 0. 0.]\n",
      "   [0. 0. 0. 1. 0.]\n",
      "   [0. 0. 0. 0. 1.]]]\n",
      "\n",
      "\n",
      " [[[1. 0. 0. 0. 0.]\n",
      "   [0. 1. 0. 0. 0.]\n",
      "   [0. 0. 1. 0. 0.]\n",
      "   [0. 0. 0. 1. 0.]\n",
      "   [0. 0. 0. 0. 1.]]\n",
      "\n",
      "  [[1. 0. 0. 0. 0.]\n",
      "   [0. 1. 0. 0. 0.]\n",
      "   [0. 0. 1. 0. 0.]\n",
      "   [0. 0. 0. 1. 0.]\n",
      "   [0. 0. 0. 0. 1.]]\n",
      "\n",
      "  [[1. 0. 0. 0. 0.]\n",
      "   [0. 1. 0. 0. 0.]\n",
      "   [0. 0. 1. 0. 0.]\n",
      "   [0. 0. 0. 1. 0.]\n",
      "   [0. 0. 0. 0. 1.]]]], shape=(2, 3, 5, 5), dtype=float32)\n"
     ]
    }
   ],
   "source": [
    "eye_tensor = tf.eye(\n",
    "    num_rows = 5,\n",
    "    num_columns=None,\n",
    "    batch_shape=[2, 3],\n",
    "    dtype=tf.dtypes.float32,\n",
    "    name=None\n",
    ")\n",
    "print(eye_tensor)"
   ]
  },
  {
   "attachments": {},
   "cell_type": "markdown",
   "metadata": {},
   "source": [
    "### Fill Method"
   ]
  },
  {
   "attachments": {},
   "cell_type": "markdown",
   "metadata": {},
   "source": [
    "* Creates a tensor filled with a scalar value.\n",
    "* [Document](https://www.tensorflow.org/api_docs/python/tf/fill?hl=en)"
   ]
  },
  {
   "cell_type": "code",
   "execution_count": null,
   "metadata": {},
   "outputs": [
    {
     "name": "stdout",
     "output_type": "stream",
     "text": [
      "tf.Tensor(\n",
      "[[[5 5 5 5]\n",
      "  [5 5 5 5]\n",
      "  [5 5 5 5]]], shape=(1, 3, 4), dtype=int32)\n"
     ]
    }
   ],
   "source": [
    "fill_tensor = tf.fill(\n",
    "    dims=[1, 3, 4], value=5, name=None\n",
    ")\n",
    "print(fill_tensor)"
   ]
  },
  {
   "attachments": {},
   "cell_type": "markdown",
   "metadata": {},
   "source": [
    "### Ones Method"
   ]
  },
  {
   "attachments": {},
   "cell_type": "markdown",
   "metadata": {},
   "source": [
    "* Creates a tensor with all elements set to one (1).\n",
    "* [Document](https://www.tensorflow.org/api_docs/python/tf/ones?hl=en)"
   ]
  },
  {
   "cell_type": "code",
   "execution_count": null,
   "metadata": {},
   "outputs": [
    {
     "name": "stdout",
     "output_type": "stream",
     "text": [
      "tf.Tensor(\n",
      "[[[1. 1.]\n",
      "  [1. 1.]\n",
      "  [1. 1.]]\n",
      "\n",
      " [[1. 1.]\n",
      "  [1. 1.]\n",
      "  [1. 1.]]\n",
      "\n",
      " [[1. 1.]\n",
      "  [1. 1.]\n",
      "  [1. 1.]]\n",
      "\n",
      " [[1. 1.]\n",
      "  [1. 1.]\n",
      "  [1. 1.]]\n",
      "\n",
      " [[1. 1.]\n",
      "  [1. 1.]\n",
      "  [1. 1.]]], shape=(5, 3, 2), dtype=float32)\n"
     ]
    }
   ],
   "source": [
    "ones_tensor = tf.ones(\n",
    "    shape=[5, 3, 2],\n",
    "    dtype=tf.dtypes.float32,\n",
    "    name=None\n",
    ")\n",
    "print(ones_tensor)"
   ]
  },
  {
   "attachments": {},
   "cell_type": "markdown",
   "metadata": {},
   "source": [
    "### Ones_like Method"
   ]
  },
  {
   "attachments": {},
   "cell_type": "markdown",
   "metadata": {},
   "source": [
    "* Creates a tensor of all ones that has the same shape as the input.\n",
    "* [Document](https://www.tensorflow.org/api_docs/python/tf/ones_like?hl=en)"
   ]
  },
  {
   "cell_type": "code",
   "execution_count": null,
   "metadata": {},
   "outputs": [
    {
     "name": "stdout",
     "output_type": "stream",
     "text": [
      "tf.Tensor(\n",
      "[[[5 5 5 5]\n",
      "  [5 5 5 5]\n",
      "  [5 5 5 5]]], shape=(1, 3, 4), dtype=int32)\n",
      "tf.Tensor(\n",
      "[[[1 1 1 1]\n",
      "  [1 1 1 1]\n",
      "  [1 1 1 1]]], shape=(1, 3, 4), dtype=int32)\n"
     ]
    }
   ],
   "source": [
    "ones_like_tensor = tf.ones_like(\n",
    "    input=fill_tensor, dtype=None, name=None\n",
    ")\n",
    "print(fill_tensor)\n",
    "print(ones_like_tensor)"
   ]
  },
  {
   "attachments": {},
   "cell_type": "markdown",
   "metadata": {},
   "source": [
    "### Zeros Method"
   ]
  },
  {
   "attachments": {},
   "cell_type": "markdown",
   "metadata": {},
   "source": [
    "* Creates a tensor with all elements set to zero.\n",
    "* [Document](https://www.tensorflow.org/api_docs/python/tf/zeros?hl=en)"
   ]
  },
  {
   "cell_type": "code",
   "execution_count": null,
   "metadata": {},
   "outputs": [
    {
     "name": "stdout",
     "output_type": "stream",
     "text": [
      "tf.Tensor(\n",
      "[[0. 0.]\n",
      " [0. 0.]\n",
      " [0. 0.]], shape=(3, 2), dtype=float32)\n"
     ]
    }
   ],
   "source": [
    "zeros_tensor = tf.zeros(\n",
    "    shape=[3, 2],\n",
    "    dtype=tf.dtypes.float32,\n",
    "    name=None\n",
    ")\n",
    "print(zeros_tensor)"
   ]
  },
  {
   "attachments": {},
   "cell_type": "markdown",
   "metadata": {},
   "source": [
    "### Shape Method"
   ]
  },
  {
   "attachments": {},
   "cell_type": "markdown",
   "metadata": {},
   "source": [
    "* Returns a tensor containing the shape of the input tensor.\n",
    "* [Document](https://www.tensorflow.org/api_docs/python/tf/shape?hl=en)"
   ]
  },
  {
   "cell_type": "code",
   "execution_count": null,
   "metadata": {},
   "outputs": [
    {
     "name": "stdout",
     "output_type": "stream",
     "text": [
      "(4, 2, 3)\n"
     ]
    }
   ],
   "source": [
    "print(tensor_three_d.shape)"
   ]
  },
  {
   "cell_type": "code",
   "execution_count": null,
   "metadata": {},
   "outputs": [
    {
     "name": "stdout",
     "output_type": "stream",
     "text": [
      "tf.Tensor([4 2 3], shape=(3,), dtype=int32)\n"
     ]
    }
   ],
   "source": [
    "print(tf.shape(tensor_three_d))"
   ]
  },
  {
   "attachments": {},
   "cell_type": "markdown",
   "metadata": {},
   "source": [
    "### Rank Method"
   ]
  },
  {
   "attachments": {},
   "cell_type": "markdown",
   "metadata": {},
   "source": [
    "* Returns the rank of a tensor.\n",
    "* [Document](https://www.tensorflow.org/api_docs/python/tf/rank?hl=en)\n",
    "\n",
    "<b>\n",
    "Note: \n",
    "\n",
    "The rank of a tensor is not the same as the rank of a matrix. \n",
    "The rank of a tensor is the number of indices required to uniquely select each element of the tensor. \n",
    "Rank is also known as \"order\", \"degree\", or \"ndims.\"\n",
    "</b>"
   ]
  },
  {
   "cell_type": "code",
   "execution_count": null,
   "metadata": {},
   "outputs": [
    {
     "data": {
      "text/plain": [
       "<tf.Tensor: shape=(), dtype=int32, numpy=3>"
      ]
     },
     "metadata": {},
     "output_type": "display_data"
    }
   ],
   "source": [
    "# shape of tensor 't' is [2, 2, 3]\n",
    "t = tf.constant([[[1, 1, 1], [2, 2, 2]], [[3, 3, 3], [4, 4, 4]]])\n",
    "tf.rank(t)  # 3"
   ]
  },
  {
   "cell_type": "code",
   "execution_count": null,
   "metadata": {},
   "outputs": [
    {
     "data": {
      "text/plain": [
       "<tf.Tensor: shape=(), dtype=int32, numpy=2>"
      ]
     },
     "metadata": {},
     "output_type": "display_data"
    }
   ],
   "source": [
    "t = tf.constant([[1, 1, 1], [2, 2, 2]])\n",
    "tf.rank(t)"
   ]
  },
  {
   "attachments": {},
   "cell_type": "markdown",
   "metadata": {},
   "source": [
    "### Size Method"
   ]
  },
  {
   "attachments": {},
   "cell_type": "markdown",
   "metadata": {},
   "source": [
    "* Returns the size of a tensor.\n",
    "* [Document](https://www.tensorflow.org/api_docs/python/tf/size?hl=en)"
   ]
  },
  {
   "cell_type": "code",
   "execution_count": null,
   "metadata": {},
   "outputs": [
    {
     "data": {
      "text/plain": [
       "<tf.Tensor: shape=(), dtype=int32, numpy=12>"
      ]
     },
     "metadata": {},
     "output_type": "display_data"
    }
   ],
   "source": [
    "t = tf.constant([[[1, 1, 1], [2, 2, 2]], [[3, 3, 3], [4, 4, 4]]])\n",
    "tf.size(t)"
   ]
  },
  {
   "cell_type": "code",
   "execution_count": null,
   "metadata": {},
   "outputs": [
    {
     "data": {
      "text/plain": [
       "<tf.Tensor: shape=(), dtype=float32, numpy=6.0>"
      ]
     },
     "metadata": {},
     "output_type": "display_data"
    }
   ],
   "source": [
    "t = tf.constant([[1, 1, 1], [2, 2, 2]])\n",
    "tf.size(t, out_type=tf.float32)"
   ]
  },
  {
   "attachments": {},
   "cell_type": "markdown",
   "metadata": {},
   "source": [
    "### Random Normal Method"
   ]
  },
  {
   "attachments": {},
   "cell_type": "markdown",
   "metadata": {},
   "source": [
    "* Outputs random values from a normal distribution.\n",
    "* [Document](https://www.tensorflow.org/api_docs/python/tf/random/normal?hl=en)\n",
    "* [Probability Playground](https://www.acsu.buffalo.edu/~adamcunn/probability/normal.html)"
   ]
  },
  {
   "cell_type": "code",
   "execution_count": null,
   "metadata": {},
   "outputs": [
    {
     "name": "stdout",
     "output_type": "stream",
     "text": [
      "tf.Tensor(\n",
      "[[ 1.5024394  -0.369502  ]\n",
      " [-0.94151676 -0.68760985]\n",
      " [-0.75951684  0.1983498 ]], shape=(3, 2), dtype=float32)\n"
     ]
    }
   ],
   "source": [
    "random_tensor = tf.random.normal(\n",
    "    shape=[3, 2],\n",
    "    mean=0.0,\n",
    "    stddev=1.0,\n",
    "    dtype=tf.dtypes.float32,\n",
    "    seed=None,\n",
    "    name=None\n",
    ")\n",
    "print(random_tensor)"
   ]
  },
  {
   "cell_type": "code",
   "execution_count": null,
   "metadata": {},
   "outputs": [
    {
     "name": "stdout",
     "output_type": "stream",
     "text": [
      "tf.Tensor(\n",
      "[[98.78623  98.57111 ]\n",
      " [97.70436  99.33162 ]\n",
      " [99.10388  99.661476]], shape=(3, 2), dtype=float32)\n"
     ]
    }
   ],
   "source": [
    "random_tensor = tf.random.normal(\n",
    "    shape=[3, 2],\n",
    "    mean=100.0,\n",
    "    stddev=1.0,\n",
    "    dtype=tf.dtypes.float32,\n",
    "    seed=None,\n",
    "    name=None\n",
    ")\n",
    "print(random_tensor)"
   ]
  },
  {
   "attachments": {},
   "cell_type": "markdown",
   "metadata": {},
   "source": [
    "### Random Uniform Method"
   ]
  },
  {
   "attachments": {},
   "cell_type": "markdown",
   "metadata": {},
   "source": [
    "* Outputs random values from a uniform distribution.\n",
    "* [Document](https://www.tensorflow.org/api_docs/python/tf/random/uniform?hl=en)\n",
    "* [Probability Playground](https://www.acsu.buffalo.edu/~adamcunn/probability/uniform.html)"
   ]
  },
  {
   "cell_type": "code",
   "execution_count": null,
   "metadata": {},
   "outputs": [
    {
     "name": "stdout",
     "output_type": "stream",
     "text": [
      "tf.Tensor([0.60987175 0.5146884  0.14540792 0.85472035 0.98392296], shape=(5,), dtype=float32)\n"
     ]
    }
   ],
   "source": [
    "random_tensor = tf.random.uniform(\n",
    "    shape=[5, ],\n",
    "    minval=0,\n",
    "    maxval=None,\n",
    "    dtype=tf.dtypes.float32,\n",
    "    seed=None,\n",
    "    name=None\n",
    ")\n",
    "print(random_tensor)"
   ]
  },
  {
   "cell_type": "code",
   "execution_count": null,
   "metadata": {},
   "outputs": [
    {
     "name": "stdout",
     "output_type": "stream",
     "text": [
      "tf.Tensor([23.648298  39.422905  38.92784    3.1430006 54.139877 ], shape=(5,), dtype=float32)\n"
     ]
    }
   ],
   "source": [
    "random_tensor = tf.random.uniform(\n",
    "    shape=[5, ],\n",
    "    minval=0,\n",
    "    maxval=100,\n",
    "    dtype=tf.dtypes.float32,\n",
    "    seed=None,\n",
    "    name=None\n",
    ")\n",
    "print(random_tensor)"
   ]
  },
  {
   "attachments": {},
   "cell_type": "markdown",
   "metadata": {},
   "source": [
    "#### Need to Specify the Max Value with Int Data Type"
   ]
  },
  {
   "cell_type": "code",
   "execution_count": null,
   "metadata": {},
   "outputs": [
    {
     "ename": "ValueError",
     "evalue": "Must specify maxval for integer dtype tf.int32",
     "output_type": "error",
     "traceback": [
      "\u001b[1;31m---------------------------------------------------------------------------\u001b[0m\n",
      "\u001b[1;31mValueError\u001b[0m                                Traceback (most recent call last)\n",
      "Cell \u001b[1;32mIn[38], line 1\u001b[0m\n",
      "\u001b[1;32m----> 1\u001b[0m random_tensor \u001b[39m=\u001b[39m tf\u001b[39m.\u001b[39;49mrandom\u001b[39m.\u001b[39;49muniform(\n",
      "\u001b[0;32m      2\u001b[0m     shape\u001b[39m=\u001b[39;49m[\u001b[39m5\u001b[39;49m, ],\n",
      "\u001b[0;32m      3\u001b[0m     minval\u001b[39m=\u001b[39;49m\u001b[39m0\u001b[39;49m,\n",
      "\u001b[0;32m      4\u001b[0m     maxval\u001b[39m=\u001b[39;49m\u001b[39mNone\u001b[39;49;00m,\n",
      "\u001b[0;32m      5\u001b[0m     dtype\u001b[39m=\u001b[39;49mtf\u001b[39m.\u001b[39;49mdtypes\u001b[39m.\u001b[39;49mint32,\n",
      "\u001b[0;32m      6\u001b[0m     seed\u001b[39m=\u001b[39;49m\u001b[39mNone\u001b[39;49;00m,\n",
      "\u001b[0;32m      7\u001b[0m     name\u001b[39m=\u001b[39;49m\u001b[39mNone\u001b[39;49;00m\n",
      "\u001b[0;32m      8\u001b[0m )\n",
      "\u001b[0;32m      9\u001b[0m \u001b[39mprint\u001b[39m(random_tensor)\n",
      "\n",
      "File \u001b[1;32mc:\\Users\\JasonHuang\\AppData\\Local\\Programs\\Python\\Python310\\lib\\site-packages\\tensorflow\\python\\util\\traceback_utils.py:153\u001b[0m, in \u001b[0;36mfilter_traceback.<locals>.error_handler\u001b[1;34m(*args, **kwargs)\u001b[0m\n",
      "\u001b[0;32m    151\u001b[0m \u001b[39mexcept\u001b[39;00m \u001b[39mException\u001b[39;00m \u001b[39mas\u001b[39;00m e:\n",
      "\u001b[0;32m    152\u001b[0m   filtered_tb \u001b[39m=\u001b[39m _process_traceback_frames(e\u001b[39m.\u001b[39m__traceback__)\n",
      "\u001b[1;32m--> 153\u001b[0m   \u001b[39mraise\u001b[39;00m e\u001b[39m.\u001b[39mwith_traceback(filtered_tb) \u001b[39mfrom\u001b[39;00m \u001b[39mNone\u001b[39m\n",
      "\u001b[0;32m    154\u001b[0m \u001b[39mfinally\u001b[39;00m:\n",
      "\u001b[0;32m    155\u001b[0m   \u001b[39mdel\u001b[39;00m filtered_tb\n",
      "\n",
      "File \u001b[1;32mc:\\Users\\JasonHuang\\AppData\\Local\\Programs\\Python\\Python310\\lib\\site-packages\\tensorflow\\python\\ops\\random_ops.py:293\u001b[0m, in \u001b[0;36mrandom_uniform\u001b[1;34m(shape, minval, maxval, dtype, seed, name)\u001b[0m\n",
      "\u001b[0;32m    291\u001b[0m \u001b[39mif\u001b[39;00m maxval \u001b[39mis\u001b[39;00m \u001b[39mNone\u001b[39;00m:\n",
      "\u001b[0;32m    292\u001b[0m   \u001b[39mif\u001b[39;00m dtype\u001b[39m.\u001b[39mis_integer:\n",
      "\u001b[1;32m--> 293\u001b[0m     \u001b[39mraise\u001b[39;00m \u001b[39mValueError\u001b[39;00m(\u001b[39m\"\u001b[39m\u001b[39mMust specify maxval for integer dtype \u001b[39m\u001b[39m%r\u001b[39;00m\u001b[39m\"\u001b[39m \u001b[39m%\u001b[39m dtype)\n",
      "\u001b[0;32m    294\u001b[0m   maxval \u001b[39m=\u001b[39m \u001b[39m1\u001b[39m\n",
      "\u001b[0;32m    295\u001b[0m \u001b[39mwith\u001b[39;00m ops\u001b[39m.\u001b[39mname_scope(name, \u001b[39m\"\u001b[39m\u001b[39mrandom_uniform\u001b[39m\u001b[39m\"\u001b[39m, [shape, minval, maxval]) \u001b[39mas\u001b[39;00m name:\n",
      "\n",
      "\u001b[1;31mValueError\u001b[0m: Must specify maxval for integer dtype tf.int32"
     ]
    }
   ],
   "source": [
    "random_tensor = tf.random.uniform(\n",
    "    shape=[5, ],\n",
    "    minval=0,\n",
    "    maxval=None,\n",
    "    dtype=tf.dtypes.int32,\n",
    "    seed=None,\n",
    "    name=None\n",
    ")\n",
    "print(random_tensor)"
   ]
  },
  {
   "cell_type": "code",
   "execution_count": null,
   "metadata": {},
   "outputs": [
    {
     "name": "stdout",
     "output_type": "stream",
     "text": [
      "tf.Tensor([725 600 930 767 498], shape=(5,), dtype=int32)\n"
     ]
    }
   ],
   "source": [
    "random_tensor = tf.random.uniform(\n",
    "    shape=[5, ],\n",
    "    minval=0,\n",
    "    maxval=1000,\n",
    "    dtype=tf.dtypes.int32,\n",
    "    seed=None,\n",
    "    name=None\n",
    ")\n",
    "print(random_tensor)"
   ]
  },
  {
   "attachments": {},
   "cell_type": "markdown",
   "metadata": {},
   "source": [
    "#### Set Seed to Generate Reproducable Output"
   ]
  },
  {
   "cell_type": "code",
   "execution_count": null,
   "metadata": {},
   "outputs": [
    {
     "name": "stdout",
     "output_type": "stream",
     "text": [
      "tf.Tensor([4 3 1], shape=(3,), dtype=int32)\n",
      "tf.Tensor([4 3 2], shape=(3,), dtype=int32)\n",
      "tf.Tensor([1 1 1], shape=(3,), dtype=int32)\n",
      "tf.Tensor([1 3 3], shape=(3,), dtype=int32)\n",
      "tf.Tensor([4 2 2], shape=(3,), dtype=int32)\n"
     ]
    }
   ],
   "source": [
    "tf.random.set_seed(5)\n",
    "print(tf.random.uniform(shape=[3,], maxval=5, dtype=tf.int32, seed=10))\n",
    "print(tf.random.uniform(shape=[3,], maxval=5, dtype=tf.int32, seed=10))\n",
    "print(tf.random.uniform(shape=[3,], maxval=5, dtype=tf.int32, seed=10))\n",
    "print(tf.random.uniform(shape=[3,], maxval=5, dtype=tf.int32, seed=10))\n",
    "print(tf.random.uniform(shape=[3,], maxval=5, dtype=tf.int32, seed=10))"
   ]
  },
  {
   "cell_type": "code",
   "execution_count": null,
   "metadata": {},
   "outputs": [
    {
     "name": "stdout",
     "output_type": "stream",
     "text": [
      "tf.Tensor([4 2 1], shape=(3,), dtype=int32)\n",
      "tf.Tensor([4 1 0], shape=(3,), dtype=int32)\n",
      "tf.Tensor([1 2 1], shape=(3,), dtype=int32)\n",
      "tf.Tensor([2 4 2], shape=(3,), dtype=int32)\n",
      "tf.Tensor([4 3 2], shape=(3,), dtype=int32)\n"
     ]
    }
   ],
   "source": [
    "print(tf.random.uniform(shape=[3,], maxval=5, dtype=tf.int32, seed=10))\n",
    "print(tf.random.uniform(shape=[3,], maxval=5, dtype=tf.int32, seed=10))\n",
    "print(tf.random.uniform(shape=[3,], maxval=5, dtype=tf.int32, seed=10))\n",
    "print(tf.random.uniform(shape=[3,], maxval=5, dtype=tf.int32, seed=10))\n",
    "print(tf.random.uniform(shape=[3,], maxval=5, dtype=tf.int32, seed=10))"
   ]
  }
 ],
 "metadata": {
  "language_info": {
   "name": "python"
  },
  "orig_nbformat": 4
 },
 "nbformat": 4,
 "nbformat_minor": 2
}
